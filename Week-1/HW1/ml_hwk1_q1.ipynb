{
 "cells": [
  {
   "metadata": {},
   "cell_type": "markdown",
   "source": "# HW1 - Linear Regression, Regularization, Preceptron",
   "id": "84ca1f46756d9a60"
  },
  {
   "metadata": {},
   "cell_type": "markdown",
   "source": "### Question 1 A - Housing data set Work",
   "id": "6c29c23bc210ed06"
  },
  {
   "cell_type": "code",
   "id": "initial_id",
   "metadata": {
    "collapsed": true,
    "ExecuteTime": {
     "end_time": "2025-09-18T23:06:36.112960Z",
     "start_time": "2025-09-18T23:06:36.042674Z"
    }
   },
   "source": [
    "# housing data set\n",
    "import numpy as np\n",
    "\n",
    "train = np.loadtxt(\"train.txt\")\n",
    "test = np.loadtxt(\"test.txt\")\n",
    "\n",
    "train"
   ],
   "outputs": [
    {
     "data": {
      "text/plain": [
       "array([[6.3200e-03, 1.8000e+01, 2.3100e+00, ..., 3.9690e+02, 4.9800e+00,\n",
       "        2.4000e+01],\n",
       "       [2.7310e-02, 0.0000e+00, 7.0700e+00, ..., 3.9690e+02, 9.1400e+00,\n",
       "        2.1600e+01],\n",
       "       [2.7290e-02, 0.0000e+00, 7.0700e+00, ..., 3.9283e+02, 4.0300e+00,\n",
       "        3.4700e+01],\n",
       "       ...,\n",
       "       [6.0760e-02, 0.0000e+00, 1.1930e+01, ..., 3.9690e+02, 5.6400e+00,\n",
       "        2.3900e+01],\n",
       "       [1.0959e-01, 0.0000e+00, 1.1930e+01, ..., 3.9345e+02, 6.4800e+00,\n",
       "        2.2000e+01],\n",
       "       [4.7410e-02, 0.0000e+00, 1.1930e+01, ..., 3.9690e+02, 7.8800e+00,\n",
       "        1.1900e+01]], shape=(433, 14))"
      ]
     },
     "execution_count": 1,
     "metadata": {},
     "output_type": "execute_result"
    }
   ],
   "execution_count": 1
  },
  {
   "metadata": {
    "ExecuteTime": {
     "end_time": "2025-09-18T23:06:36.129942Z",
     "start_time": "2025-09-18T23:06:36.127360Z"
    }
   },
   "cell_type": "code",
   "source": "train.shape",
   "id": "a5b92221e18d1637",
   "outputs": [
    {
     "data": {
      "text/plain": [
       "(433, 14)"
      ]
     },
     "execution_count": 2,
     "metadata": {},
     "output_type": "execute_result"
    }
   ],
   "execution_count": 2
  },
  {
   "metadata": {
    "ExecuteTime": {
     "end_time": "2025-09-18T23:06:36.159680Z",
     "start_time": "2025-09-18T23:06:36.158209Z"
    }
   },
   "cell_type": "code",
   "source": [
    "# slicing train into X (features) and y (labels)\n",
    "X = train[:, :-1]\n",
    "y = train[:, -1]"
   ],
   "id": "68636d1ad46b42fc",
   "outputs": [],
   "execution_count": 3
  },
  {
   "metadata": {
    "ExecuteTime": {
     "end_time": "2025-09-18T23:06:36.346349Z",
     "start_time": "2025-09-18T23:06:36.343710Z"
    }
   },
   "cell_type": "code",
   "source": "X.shape",
   "id": "16ea688dd873e643",
   "outputs": [
    {
     "data": {
      "text/plain": [
       "(433, 13)"
      ]
     },
     "execution_count": 4,
     "metadata": {},
     "output_type": "execute_result"
    }
   ],
   "execution_count": 4
  },
  {
   "metadata": {
    "ExecuteTime": {
     "end_time": "2025-09-18T23:06:36.392796Z",
     "start_time": "2025-09-18T23:06:36.389917Z"
    }
   },
   "cell_type": "code",
   "source": "y.shape",
   "id": "c28aa319f98cca16",
   "outputs": [
    {
     "data": {
      "text/plain": [
       "(433,)"
      ]
     },
     "execution_count": 5,
     "metadata": {},
     "output_type": "execute_result"
    }
   ],
   "execution_count": 5
  },
  {
   "metadata": {
    "ExecuteTime": {
     "end_time": "2025-09-18T23:06:36.448337Z",
     "start_time": "2025-09-18T23:06:36.445522Z"
    }
   },
   "cell_type": "code",
   "source": [
    "# adding bias to the columns\n",
    "ones_col = np.ones((X.shape[0], 1))\n",
    "X_bias = np.hstack([ones_col, X])\n",
    "X_bias.shape"
   ],
   "id": "3907ab66b32e4a9",
   "outputs": [
    {
     "data": {
      "text/plain": [
       "(433, 14)"
      ]
     },
     "execution_count": 6,
     "metadata": {},
     "output_type": "execute_result"
    }
   ],
   "execution_count": 6
  },
  {
   "metadata": {
    "ExecuteTime": {
     "end_time": "2025-09-18T23:06:36.464688Z",
     "start_time": "2025-09-18T23:06:36.462276Z"
    }
   },
   "cell_type": "code",
   "source": "X_bias",
   "id": "3bb20acc3e8c71cb",
   "outputs": [
    {
     "data": {
      "text/plain": [
       "array([[1.0000e+00, 6.3200e-03, 1.8000e+01, ..., 1.5300e+01, 3.9690e+02,\n",
       "        4.9800e+00],\n",
       "       [1.0000e+00, 2.7310e-02, 0.0000e+00, ..., 1.7800e+01, 3.9690e+02,\n",
       "        9.1400e+00],\n",
       "       [1.0000e+00, 2.7290e-02, 0.0000e+00, ..., 1.7800e+01, 3.9283e+02,\n",
       "        4.0300e+00],\n",
       "       ...,\n",
       "       [1.0000e+00, 6.0760e-02, 0.0000e+00, ..., 2.1000e+01, 3.9690e+02,\n",
       "        5.6400e+00],\n",
       "       [1.0000e+00, 1.0959e-01, 0.0000e+00, ..., 2.1000e+01, 3.9345e+02,\n",
       "        6.4800e+00],\n",
       "       [1.0000e+00, 4.7410e-02, 0.0000e+00, ..., 2.1000e+01, 3.9690e+02,\n",
       "        7.8800e+00]], shape=(433, 14))"
      ]
     },
     "execution_count": 7,
     "metadata": {},
     "output_type": "execute_result"
    }
   ],
   "execution_count": 7
  },
  {
   "metadata": {},
   "cell_type": "markdown",
   "source": [
    "Using normal equation to calculate best weights ($\\theta$):\n",
    "\n",
    "$\\theta = (X^T X) ^ {-1} X^T Y$"
   ],
   "id": "3265e6adb3a642b6"
  },
  {
   "metadata": {
    "ExecuteTime": {
     "end_time": "2025-09-18T23:06:36.501104Z",
     "start_time": "2025-09-18T23:06:36.497543Z"
    }
   },
   "cell_type": "code",
   "source": [
    "# taking transpose:\n",
    "X_t = X_bias.T\n",
    "\n",
    "# multiplying X_t and X:\n",
    "X_dot = np.dot(X_t, X_bias)\n",
    "\n",
    "# taking inverse:\n",
    "X_inv_1 = np.linalg.inv(X_dot)\n",
    "\n",
    "# calculation for second term\n",
    "Xy_dot = np.dot(X_t, y)\n",
    "\n",
    "best_weights = np.dot(X_inv_1, Xy_dot)\n",
    "best_weights"
   ],
   "id": "592736b0b16446ae",
   "outputs": [
    {
     "data": {
      "text/plain": [
       "array([ 3.95843212e+01, -1.01137046e-01,  4.58935299e-02, -2.73038670e-03,\n",
       "        3.07201340e+00, -1.72254072e+01,  3.71125235e+00,  7.15862492e-03,\n",
       "       -1.59900210e+00,  3.73623375e-01, -1.57564197e-02, -1.02417703e+00,\n",
       "        9.69321451e-03, -5.85969273e-01])"
      ]
     },
     "execution_count": 8,
     "metadata": {},
     "output_type": "execute_result"
    }
   ],
   "execution_count": 8
  },
  {
   "metadata": {
    "ExecuteTime": {
     "end_time": "2025-09-18T23:06:36.553314Z",
     "start_time": "2025-09-18T23:06:36.549372Z"
    }
   },
   "cell_type": "code",
   "source": [
    "# Evaluation - using MSE\n",
    "y_pred = np.dot(X_bias, best_weights)\n",
    "\n",
    "# mse calc:\n",
    "mse = np.mean((y_pred - y)**2)\n",
    "mse"
   ],
   "id": "24dba21d40f93036",
   "outputs": [
    {
     "data": {
      "text/plain": [
       "np.float64(22.081273187013167)"
      ]
     },
     "execution_count": 9,
     "metadata": {},
     "output_type": "execute_result"
    }
   ],
   "execution_count": 9
  },
  {
   "metadata": {
    "ExecuteTime": {
     "end_time": "2025-09-18T23:06:36.585980Z",
     "start_time": "2025-09-18T23:06:36.583670Z"
    }
   },
   "cell_type": "code",
   "source": [
    "print(\"First 5 predictions:\", y_pred[:5])\n",
    "print(\"First 5 actual:\", y[:5])\n",
    "print(\"Training MSE:\", mse)"
   ],
   "id": "7da6af372d07a085",
   "outputs": [
    {
     "name": "stdout",
     "output_type": "stream",
     "text": [
      "First 5 predictions: [30.43342174 25.13122263 30.79404953 28.86491521 28.09585159]\n",
      "First 5 actual: [24.  21.6 34.7 33.4 36.2]\n",
      "Training MSE: 22.081273187013167\n"
     ]
    }
   ],
   "execution_count": 10
  },
  {
   "metadata": {
    "ExecuteTime": {
     "end_time": "2025-09-18T23:06:36.603834Z",
     "start_time": "2025-09-18T23:06:36.600206Z"
    }
   },
   "cell_type": "code",
   "source": [
    "# checking test MSE scores: (Test set evaluation) (test.txt)\n",
    "X_test = test[:, :-1]\n",
    "y_test = test[:,-1]"
   ],
   "id": "68f784c7764f6ed9",
   "outputs": [],
   "execution_count": 11
  },
  {
   "metadata": {
    "ExecuteTime": {
     "end_time": "2025-09-18T23:06:36.632933Z",
     "start_time": "2025-09-18T23:06:36.629793Z"
    }
   },
   "cell_type": "code",
   "source": "X_test.shape",
   "id": "e60a7e6af992923f",
   "outputs": [
    {
     "data": {
      "text/plain": [
       "(74, 13)"
      ]
     },
     "execution_count": 12,
     "metadata": {},
     "output_type": "execute_result"
    }
   ],
   "execution_count": 12
  },
  {
   "metadata": {
    "ExecuteTime": {
     "end_time": "2025-09-18T23:06:36.673893Z",
     "start_time": "2025-09-18T23:06:36.671389Z"
    }
   },
   "cell_type": "code",
   "source": "y_test.shape",
   "id": "ef6b07c8a7c6a507",
   "outputs": [
    {
     "data": {
      "text/plain": [
       "(74,)"
      ]
     },
     "execution_count": 13,
     "metadata": {},
     "output_type": "execute_result"
    }
   ],
   "execution_count": 13
  },
  {
   "metadata": {
    "ExecuteTime": {
     "end_time": "2025-09-18T23:06:36.694883Z",
     "start_time": "2025-09-18T23:06:36.692982Z"
    }
   },
   "cell_type": "code",
   "source": [
    "# adding bias to feature column:\n",
    "test_ones = np.ones((test.shape[0], 1))\n",
    "testX_bias = np.hstack([test_ones, X_test])"
   ],
   "id": "5485802bb587b65e",
   "outputs": [],
   "execution_count": 14
  },
  {
   "metadata": {
    "ExecuteTime": {
     "end_time": "2025-09-18T23:06:36.706264Z",
     "start_time": "2025-09-18T23:06:36.703961Z"
    }
   },
   "cell_type": "code",
   "source": "testX_bias.shape",
   "id": "9465d11efbb565fb",
   "outputs": [
    {
     "data": {
      "text/plain": [
       "(74, 14)"
      ]
     },
     "execution_count": 15,
     "metadata": {},
     "output_type": "execute_result"
    }
   ],
   "execution_count": 15
  },
  {
   "metadata": {
    "ExecuteTime": {
     "end_time": "2025-09-18T23:06:36.717413Z",
     "start_time": "2025-09-18T23:06:36.715Z"
    }
   },
   "cell_type": "code",
   "source": [
    "# prediction of test\n",
    "test_pred = np.dot(testX_bias, best_weights)\n",
    "test_pred"
   ],
   "id": "7517afcc8040ed73",
   "outputs": [
    {
     "data": {
      "text/plain": [
       "array([12.89601587, 15.08480652, 14.14860902, 19.28346642, 20.62441232,\n",
       "       17.62638194,  8.06630128, 16.79766039, 22.42117946, 22.76515103,\n",
       "       20.47101225, 21.82726572, 28.30091981, 24.40357762, 25.45408692,\n",
       "       19.49148616, 20.00375136, 19.46329612, 14.93993312, 12.29624758,\n",
       "       16.34220081, 14.97974654, 15.83457878,  7.87499641, 22.98187086,\n",
       "       26.49665188, 26.71380083, 22.42973877, 32.40553743, 34.46425864,\n",
       "       30.39513616, 30.03396417, 32.703242  , 34.16265404, 24.10820509,\n",
       "       32.99344005, 23.50402945, 23.71822828, 24.66694602, 24.2994886 ,\n",
       "       29.2129179 , 36.32323393, 35.81453251, 26.87358108, 19.10110163,\n",
       "       26.85320042, 13.07264945, 15.44988802, 19.92615667, 23.1354172 ,\n",
       "       22.69039895, 19.24158123, -0.20477172, 25.48651721, 19.52602437,\n",
       "       15.78762417, 16.49976921,  0.67980639, 11.72260854, 15.96229042,\n",
       "       14.09058822, 13.65398333, 11.33040202, 17.5051086 , 18.07776724,\n",
       "       17.49358502, 13.9234283 , 16.4244096 , 16.55495335, 11.83088818,\n",
       "       14.16575006, 20.44833918, 20.24291685, 16.15286632])"
      ]
     },
     "execution_count": 16,
     "metadata": {},
     "output_type": "execute_result"
    }
   ],
   "execution_count": 16
  },
  {
   "metadata": {
    "ExecuteTime": {
     "end_time": "2025-09-18T23:06:36.730320Z",
     "start_time": "2025-09-18T23:06:36.728557Z"
    }
   },
   "cell_type": "code",
   "source": "test_pred.shape",
   "id": "752e4dd21cb1ebde",
   "outputs": [
    {
     "data": {
      "text/plain": [
       "(74,)"
      ]
     },
     "execution_count": 17,
     "metadata": {},
     "output_type": "execute_result"
    }
   ],
   "execution_count": 17
  },
  {
   "metadata": {
    "ExecuteTime": {
     "end_time": "2025-09-18T23:06:36.742010Z",
     "start_time": "2025-09-18T23:06:36.740074Z"
    }
   },
   "cell_type": "code",
   "source": [
    "# mse for test:\n",
    "mse_test = np.mean((test_pred-y_test) ** 2)\n",
    "mse_test"
   ],
   "id": "a2b1fbd5cafbcae0",
   "outputs": [
    {
     "data": {
      "text/plain": [
       "np.float64(22.63825629657661)"
      ]
     },
     "execution_count": 18,
     "metadata": {},
     "output_type": "execute_result"
    }
   ],
   "execution_count": 18
  },
  {
   "metadata": {
    "ExecuteTime": {
     "end_time": "2025-09-18T23:06:36.753899Z",
     "start_time": "2025-09-18T23:06:36.751338Z"
    }
   },
   "cell_type": "code",
   "source": "np.min(y_test)",
   "id": "8af5d066d28c7510",
   "outputs": [
    {
     "data": {
      "text/plain": [
       "np.float64(10.2)"
      ]
     },
     "execution_count": 19,
     "metadata": {},
     "output_type": "execute_result"
    }
   ],
   "execution_count": 19
  },
  {
   "metadata": {
    "ExecuteTime": {
     "end_time": "2025-09-18T23:06:36.762129Z",
     "start_time": "2025-09-18T23:06:36.760113Z"
    }
   },
   "cell_type": "code",
   "source": "np.max(y_test)",
   "id": "f27efd71d3ec0c9e",
   "outputs": [
    {
     "data": {
      "text/plain": [
       "np.float64(42.8)"
      ]
     },
     "execution_count": 20,
     "metadata": {},
     "output_type": "execute_result"
    }
   ],
   "execution_count": 20
  },
  {
   "metadata": {
    "ExecuteTime": {
     "end_time": "2025-09-18T23:06:36.772553Z",
     "start_time": "2025-09-18T23:06:36.770404Z"
    }
   },
   "cell_type": "code",
   "source": "np.std(y_test)",
   "id": "90f65e5be6cd3889",
   "outputs": [
    {
     "data": {
      "text/plain": [
       "np.float64(6.4612466429594)"
      ]
     },
     "execution_count": 21,
     "metadata": {},
     "output_type": "execute_result"
    }
   ],
   "execution_count": 21
  },
  {
   "metadata": {},
   "cell_type": "markdown",
   "source": "### Question 1A - Normalized Housing Dataset",
   "id": "f3288d5c68612689"
  },
  {
   "metadata": {
    "ExecuteTime": {
     "end_time": "2025-09-18T23:06:36.783831Z",
     "start_time": "2025-09-18T23:06:36.781160Z"
    }
   },
   "cell_type": "code",
   "source": [
    "house_train = np.loadtxt(\"train.txt\")\n",
    "house_test = np.loadtxt(\"test.txt\")\n",
    "\n",
    "house_train.shape"
   ],
   "id": "1d265f3d7ed04b96",
   "outputs": [
    {
     "data": {
      "text/plain": [
       "(433, 14)"
      ]
     },
     "execution_count": 22,
     "metadata": {},
     "output_type": "execute_result"
    }
   ],
   "execution_count": 22
  },
  {
   "metadata": {
    "ExecuteTime": {
     "end_time": "2025-09-18T23:06:36.792619Z",
     "start_time": "2025-09-18T23:06:36.790983Z"
    }
   },
   "cell_type": "code",
   "source": [
    "# separating features and labels\n",
    "X_train = house_train[:, :-1]\n",
    "y_train = house_train[:, -1]\n",
    "X_test = house_test[:, :-1]\n",
    "y_test = house_test[:, -1]"
   ],
   "id": "3651f6cf593e95b5",
   "outputs": [],
   "execution_count": 23
  },
  {
   "metadata": {
    "ExecuteTime": {
     "end_time": "2025-09-18T23:06:36.801463Z",
     "start_time": "2025-09-18T23:06:36.799214Z"
    }
   },
   "cell_type": "code",
   "source": [
    "# applying normalization -\n",
    "train_mean = np.mean(X_train, axis=0)\n",
    "train_std = np.std(X_train, axis=0)\n",
    "\n",
    "X_train_normalized = (X_train - train_mean) / train_std\n",
    "X_test_normalized = (X_test - train_mean) / train_std\n",
    "\n",
    "X_train_normalized[:3]"
   ],
   "id": "bbc590fe0721ff8",
   "outputs": [
    {
     "data": {
      "text/plain": [
       "array([[-0.40654388,  0.27198037, -1.27084905, -0.26792196, -0.12875596,\n",
       "         0.38509581, -0.09515781,  0.14085217, -0.97070059, -0.61306377,\n",
       "        -1.4510964 ,  0.40955068, -1.04777883],\n",
       "       [-0.4040825 , -0.48740168, -0.55514244, -0.26792196, -0.72732782,\n",
       "         0.16863868,  0.3982737 ,  0.56797077, -0.85545152, -0.93587279,\n",
       "        -0.27507495,  0.40955068, -0.46031379],\n",
       "       [-0.40408485, -0.48740168, -0.55514244, -0.26792196, -0.72732782,\n",
       "         1.24249093, -0.2428271 ,  0.56797077, -0.85545152, -0.93587279,\n",
       "        -0.27507495,  0.36136762, -1.18193551]])"
      ]
     },
     "execution_count": 24,
     "metadata": {},
     "output_type": "execute_result"
    }
   ],
   "execution_count": 24
  },
  {
   "metadata": {
    "ExecuteTime": {
     "end_time": "2025-09-18T23:06:36.828329Z",
     "start_time": "2025-09-18T23:06:36.826739Z"
    }
   },
   "cell_type": "code",
   "source": [
    "# adding bias to X_train and X_test\n",
    "ones_col_Xtrain = np.ones((X_train_normalized.shape[0], 1))\n",
    "ones_col_Xtest = np.ones((X_test_normalized.shape[0], 1))\n",
    "\n",
    "houseXtrain_bias = np.hstack([ones_col_Xtrain, X_train_normalized])\n",
    "houseXtest_bias = np.hstack([ones_col_Xtest, X_test_normalized])"
   ],
   "id": "1517638420637af3",
   "outputs": [],
   "execution_count": 25
  },
  {
   "metadata": {
    "ExecuteTime": {
     "end_time": "2025-09-18T23:06:36.867262Z",
     "start_time": "2025-09-18T23:06:36.864560Z"
    }
   },
   "cell_type": "code",
   "source": [
    "# using normal equation:\n",
    "\n",
    "houseXtrain_transpose = houseXtrain_bias.T\n",
    "\n",
    "houseXtrain_dot = np.dot(houseXtrain_transpose, houseXtrain_bias)\n",
    "\n",
    "houseXtrain_inverse = np.linalg.inv(houseXtrain_dot)\n",
    "\n",
    "houseXtrain_y_dot = np.dot(houseXtrain_transpose, y_train)\n",
    "\n",
    "house_train_theta = np.dot(houseXtrain_inverse, houseXtrain_y_dot)\n",
    "house_train_theta"
   ],
   "id": "4e285ec22c427342",
   "outputs": [
    {
     "data": {
      "text/plain": [
       "array([ 2.28672055e+01, -8.62471154e-01,  1.08783654e+00, -1.81591739e-02,\n",
       "        7.67935759e-01, -1.98564814e+00,  2.64039749e+00,  1.98757394e-01,\n",
       "       -3.28359559e+00,  3.24187760e+00, -2.63575867e+00, -2.17720738e+00,\n",
       "        8.18781184e-01, -4.14940807e+00])"
      ]
     },
     "execution_count": 26,
     "metadata": {},
     "output_type": "execute_result"
    }
   ],
   "execution_count": 26
  },
  {
   "metadata": {
    "ExecuteTime": {
     "end_time": "2025-09-18T23:06:36.892465Z",
     "start_time": "2025-09-18T23:06:36.890724Z"
    }
   },
   "cell_type": "code",
   "source": [
    "house_train_pred = np.dot(houseXtrain_bias, house_train_theta)\n",
    "\n",
    "house_test_pred = np.dot(houseXtest_bias, house_train_theta)"
   ],
   "id": "4445188d742d2437",
   "outputs": [],
   "execution_count": 27
  },
  {
   "metadata": {
    "ExecuteTime": {
     "end_time": "2025-09-18T23:06:36.903490Z",
     "start_time": "2025-09-18T23:06:36.901530Z"
    }
   },
   "cell_type": "code",
   "source": [
    "# errors:\n",
    "house_train_mse = np.mean((house_train_pred - y_train) ** 2)\n",
    "house_test_mse = np.mean((house_test_pred - y_test) ** 2)"
   ],
   "id": "54e7213bca42b4dc",
   "outputs": [],
   "execution_count": 28
  },
  {
   "metadata": {
    "ExecuteTime": {
     "end_time": "2025-09-18T23:09:03.674312Z",
     "start_time": "2025-09-18T23:09:03.668358Z"
    }
   },
   "cell_type": "code",
   "source": "print(f\"Housing dataset training mse: {house_train_mse}\")",
   "id": "241a3af9fd93ef8b",
   "outputs": [
    {
     "name": "stdout",
     "output_type": "stream",
     "text": [
      "Housing dataset training mse: 22.081273187013167\n"
     ]
    }
   ],
   "execution_count": 58
  },
  {
   "metadata": {
    "ExecuteTime": {
     "end_time": "2025-09-18T23:09:38.082829Z",
     "start_time": "2025-09-18T23:09:38.079591Z"
    }
   },
   "cell_type": "code",
   "source": "print(f\"Housing dataset testing mse: {house_test_mse}\")",
   "id": "23354e3a601e5462",
   "outputs": [
    {
     "name": "stdout",
     "output_type": "stream",
     "text": [
      "Housing dataset testing mse: 22.638256296587716\n"
     ]
    }
   ],
   "execution_count": 59
  },
  {
   "metadata": {},
   "cell_type": "markdown",
   "source": [
    "### Question1A - Spam Dataset Work\n",
    "with normalization , kfold cross validation and binary predictions"
   ],
   "id": "8573243cfdd53844"
  },
  {
   "metadata": {
    "ExecuteTime": {
     "end_time": "2025-09-18T23:06:36.939259Z",
     "start_time": "2025-09-18T23:06:36.929906Z"
    }
   },
   "cell_type": "code",
   "source": [
    "# SPAM dataset loading\n",
    "data = np.loadtxt(\"spambase/spambase.data\", delimiter=\",\")"
   ],
   "id": "230d62cb15dd1df4",
   "outputs": [],
   "execution_count": 31
  },
  {
   "metadata": {
    "ExecuteTime": {
     "end_time": "2025-09-18T23:06:36.944892Z",
     "start_time": "2025-09-18T23:06:36.943146Z"
    }
   },
   "cell_type": "code",
   "source": "data",
   "id": "49b74c566722ae0e",
   "outputs": [
    {
     "data": {
      "text/plain": [
       "array([[0.000e+00, 6.400e-01, 6.400e-01, ..., 6.100e+01, 2.780e+02,\n",
       "        1.000e+00],\n",
       "       [2.100e-01, 2.800e-01, 5.000e-01, ..., 1.010e+02, 1.028e+03,\n",
       "        1.000e+00],\n",
       "       [6.000e-02, 0.000e+00, 7.100e-01, ..., 4.850e+02, 2.259e+03,\n",
       "        1.000e+00],\n",
       "       ...,\n",
       "       [3.000e-01, 0.000e+00, 3.000e-01, ..., 6.000e+00, 1.180e+02,\n",
       "        0.000e+00],\n",
       "       [9.600e-01, 0.000e+00, 0.000e+00, ..., 5.000e+00, 7.800e+01,\n",
       "        0.000e+00],\n",
       "       [0.000e+00, 0.000e+00, 6.500e-01, ..., 5.000e+00, 4.000e+01,\n",
       "        0.000e+00]], shape=(4601, 58))"
      ]
     },
     "execution_count": 32,
     "metadata": {},
     "output_type": "execute_result"
    }
   ],
   "execution_count": 32
  },
  {
   "metadata": {
    "ExecuteTime": {
     "end_time": "2025-09-18T23:06:36.985088Z",
     "start_time": "2025-09-18T23:06:36.983097Z"
    }
   },
   "cell_type": "code",
   "source": "data.shape",
   "id": "d408b890c3b650a2",
   "outputs": [
    {
     "data": {
      "text/plain": [
       "(4601, 58)"
      ]
     },
     "execution_count": 33,
     "metadata": {},
     "output_type": "execute_result"
    }
   ],
   "execution_count": 33
  },
  {
   "metadata": {
    "ExecuteTime": {
     "end_time": "2025-09-18T23:06:37.034175Z",
     "start_time": "2025-09-18T23:06:37.030623Z"
    }
   },
   "cell_type": "code",
   "source": [
    "X = data[:, :-1]\n",
    "y = data[:,-1]\n",
    "\n",
    "ones_col = np.ones((X.shape[0], 1))\n",
    "spamX_bias = np.hstack([ones_col, X])\n",
    "\n",
    "spamX_bias.shape"
   ],
   "id": "9f52eece1e00722c",
   "outputs": [
    {
     "data": {
      "text/plain": [
       "(4601, 58)"
      ]
     },
     "execution_count": 34,
     "metadata": {},
     "output_type": "execute_result"
    }
   ],
   "execution_count": 34
  },
  {
   "metadata": {
    "ExecuteTime": {
     "end_time": "2025-09-18T23:06:37.081736Z",
     "start_time": "2025-09-18T23:06:37.078896Z"
    }
   },
   "cell_type": "code",
   "source": "spamX_bias[:5]",
   "id": "150fa2bb2a7ef91d",
   "outputs": [
    {
     "data": {
      "text/plain": [
       "array([[1.000e+00, 0.000e+00, 6.400e-01, 6.400e-01, 0.000e+00, 3.200e-01,\n",
       "        0.000e+00, 0.000e+00, 0.000e+00, 0.000e+00, 0.000e+00, 0.000e+00,\n",
       "        6.400e-01, 0.000e+00, 0.000e+00, 0.000e+00, 3.200e-01, 0.000e+00,\n",
       "        1.290e+00, 1.930e+00, 0.000e+00, 9.600e-01, 0.000e+00, 0.000e+00,\n",
       "        0.000e+00, 0.000e+00, 0.000e+00, 0.000e+00, 0.000e+00, 0.000e+00,\n",
       "        0.000e+00, 0.000e+00, 0.000e+00, 0.000e+00, 0.000e+00, 0.000e+00,\n",
       "        0.000e+00, 0.000e+00, 0.000e+00, 0.000e+00, 0.000e+00, 0.000e+00,\n",
       "        0.000e+00, 0.000e+00, 0.000e+00, 0.000e+00, 0.000e+00, 0.000e+00,\n",
       "        0.000e+00, 0.000e+00, 0.000e+00, 0.000e+00, 7.780e-01, 0.000e+00,\n",
       "        0.000e+00, 3.756e+00, 6.100e+01, 2.780e+02],\n",
       "       [1.000e+00, 2.100e-01, 2.800e-01, 5.000e-01, 0.000e+00, 1.400e-01,\n",
       "        2.800e-01, 2.100e-01, 7.000e-02, 0.000e+00, 9.400e-01, 2.100e-01,\n",
       "        7.900e-01, 6.500e-01, 2.100e-01, 1.400e-01, 1.400e-01, 7.000e-02,\n",
       "        2.800e-01, 3.470e+00, 0.000e+00, 1.590e+00, 0.000e+00, 4.300e-01,\n",
       "        4.300e-01, 0.000e+00, 0.000e+00, 0.000e+00, 0.000e+00, 0.000e+00,\n",
       "        0.000e+00, 0.000e+00, 0.000e+00, 0.000e+00, 0.000e+00, 0.000e+00,\n",
       "        0.000e+00, 7.000e-02, 0.000e+00, 0.000e+00, 0.000e+00, 0.000e+00,\n",
       "        0.000e+00, 0.000e+00, 0.000e+00, 0.000e+00, 0.000e+00, 0.000e+00,\n",
       "        0.000e+00, 0.000e+00, 1.320e-01, 0.000e+00, 3.720e-01, 1.800e-01,\n",
       "        4.800e-02, 5.114e+00, 1.010e+02, 1.028e+03],\n",
       "       [1.000e+00, 6.000e-02, 0.000e+00, 7.100e-01, 0.000e+00, 1.230e+00,\n",
       "        1.900e-01, 1.900e-01, 1.200e-01, 6.400e-01, 2.500e-01, 3.800e-01,\n",
       "        4.500e-01, 1.200e-01, 0.000e+00, 1.750e+00, 6.000e-02, 6.000e-02,\n",
       "        1.030e+00, 1.360e+00, 3.200e-01, 5.100e-01, 0.000e+00, 1.160e+00,\n",
       "        6.000e-02, 0.000e+00, 0.000e+00, 0.000e+00, 0.000e+00, 0.000e+00,\n",
       "        0.000e+00, 0.000e+00, 0.000e+00, 0.000e+00, 0.000e+00, 0.000e+00,\n",
       "        0.000e+00, 0.000e+00, 0.000e+00, 0.000e+00, 6.000e-02, 0.000e+00,\n",
       "        0.000e+00, 1.200e-01, 0.000e+00, 6.000e-02, 6.000e-02, 0.000e+00,\n",
       "        0.000e+00, 1.000e-02, 1.430e-01, 0.000e+00, 2.760e-01, 1.840e-01,\n",
       "        1.000e-02, 9.821e+00, 4.850e+02, 2.259e+03],\n",
       "       [1.000e+00, 0.000e+00, 0.000e+00, 0.000e+00, 0.000e+00, 6.300e-01,\n",
       "        0.000e+00, 3.100e-01, 6.300e-01, 3.100e-01, 6.300e-01, 3.100e-01,\n",
       "        3.100e-01, 3.100e-01, 0.000e+00, 0.000e+00, 3.100e-01, 0.000e+00,\n",
       "        0.000e+00, 3.180e+00, 0.000e+00, 3.100e-01, 0.000e+00, 0.000e+00,\n",
       "        0.000e+00, 0.000e+00, 0.000e+00, 0.000e+00, 0.000e+00, 0.000e+00,\n",
       "        0.000e+00, 0.000e+00, 0.000e+00, 0.000e+00, 0.000e+00, 0.000e+00,\n",
       "        0.000e+00, 0.000e+00, 0.000e+00, 0.000e+00, 0.000e+00, 0.000e+00,\n",
       "        0.000e+00, 0.000e+00, 0.000e+00, 0.000e+00, 0.000e+00, 0.000e+00,\n",
       "        0.000e+00, 0.000e+00, 1.370e-01, 0.000e+00, 1.370e-01, 0.000e+00,\n",
       "        0.000e+00, 3.537e+00, 4.000e+01, 1.910e+02],\n",
       "       [1.000e+00, 0.000e+00, 0.000e+00, 0.000e+00, 0.000e+00, 6.300e-01,\n",
       "        0.000e+00, 3.100e-01, 6.300e-01, 3.100e-01, 6.300e-01, 3.100e-01,\n",
       "        3.100e-01, 3.100e-01, 0.000e+00, 0.000e+00, 3.100e-01, 0.000e+00,\n",
       "        0.000e+00, 3.180e+00, 0.000e+00, 3.100e-01, 0.000e+00, 0.000e+00,\n",
       "        0.000e+00, 0.000e+00, 0.000e+00, 0.000e+00, 0.000e+00, 0.000e+00,\n",
       "        0.000e+00, 0.000e+00, 0.000e+00, 0.000e+00, 0.000e+00, 0.000e+00,\n",
       "        0.000e+00, 0.000e+00, 0.000e+00, 0.000e+00, 0.000e+00, 0.000e+00,\n",
       "        0.000e+00, 0.000e+00, 0.000e+00, 0.000e+00, 0.000e+00, 0.000e+00,\n",
       "        0.000e+00, 0.000e+00, 1.350e-01, 0.000e+00, 1.350e-01, 0.000e+00,\n",
       "        0.000e+00, 3.537e+00, 4.000e+01, 1.910e+02]])"
      ]
     },
     "execution_count": 35,
     "metadata": {},
     "output_type": "execute_result"
    }
   ],
   "execution_count": 35
  },
  {
   "metadata": {
    "ExecuteTime": {
     "end_time": "2025-09-18T23:06:37.120856Z",
     "start_time": "2025-09-18T23:06:37.116725Z"
    }
   },
   "cell_type": "code",
   "source": [
    "# applying normal equation\n",
    "# taking transpose:\n",
    "spamX_t = spamX_bias.T\n",
    "\n",
    "# multiplying X_t and X:\n",
    "spamX_dot = np.dot(spamX_t, spamX_bias)\n",
    "\n",
    "# taking inverse:\n",
    "spamX_inv_1 = np.linalg.inv(spamX_dot)\n",
    "\n",
    "# calculation for second term\n",
    "spamXy_dot = np.dot(spamX_t, y)\n",
    "\n",
    "best_weights = np.dot(spamX_inv_1, spamXy_dot)\n",
    "best_weights"
   ],
   "id": "b72019be121d2358",
   "outputs": [
    {
     "data": {
      "text/plain": [
       "array([ 2.00278624e-01, -4.98190289e-02, -1.20462357e-02,  3.92785791e-02,\n",
       "        1.19172872e-02,  8.42077238e-02,  1.18840540e-01,  2.12940544e-01,\n",
       "        9.39888974e-02,  7.24740307e-02,  1.50673956e-02,  5.68567170e-02,\n",
       "       -2.78594942e-02,  1.19040396e-02,  4.85997980e-03,  1.85245239e-02,\n",
       "        7.50613606e-02,  5.17157135e-02,  5.53979180e-02,  1.41333699e-02,\n",
       "        6.17219769e-02,  5.26937284e-02,  4.47670000e-02,  1.74800431e-01,\n",
       "        9.08907931e-02, -2.31749678e-02, -2.16289521e-02, -1.22016024e-02,\n",
       "        3.98741601e-03, -7.44954418e-03, -5.19483779e-02, -2.32939753e-02,\n",
       "        6.33175996e-03, -4.19834167e-02,  5.11417651e-02, -3.11687177e-02,\n",
       "        2.64800625e-02, -3.32125168e-02, -5.34386058e-02, -1.97545953e-02,\n",
       "        4.07608890e-02, -8.36408577e-03, -3.69265209e-02, -6.32389776e-02,\n",
       "       -3.23800301e-02, -3.52532828e-02, -3.78141111e-02, -1.95177400e-01,\n",
       "       -5.82229386e-02, -1.40102484e-01, -5.99593550e-02, -5.90515790e-02,\n",
       "        6.80529871e-02,  2.33177986e-01,  2.76934327e-02,  2.32670766e-04,\n",
       "        6.67538218e-05,  7.98621909e-05])"
      ]
     },
     "execution_count": 36,
     "metadata": {},
     "output_type": "execute_result"
    }
   ],
   "execution_count": 36
  },
  {
   "metadata": {
    "ExecuteTime": {
     "end_time": "2025-09-18T23:06:37.166237Z",
     "start_time": "2025-09-18T23:06:37.162908Z"
    }
   },
   "cell_type": "code",
   "source": [
    "spamy_pred = np.dot(spamX_bias, best_weights)\n",
    "\n",
    "# threshold :\n",
    "threshold = 0.431\n",
    "binary_pred = (spamy_pred > threshold).astype(int)\n",
    "\n",
    "binary_pred.shape"
   ],
   "id": "2694c988d6e7c776",
   "outputs": [
    {
     "data": {
      "text/plain": [
       "(4601,)"
      ]
     },
     "execution_count": 37,
     "metadata": {},
     "output_type": "execute_result"
    }
   ],
   "execution_count": 37
  },
  {
   "metadata": {
    "ExecuteTime": {
     "end_time": "2025-09-18T23:06:37.210035Z",
     "start_time": "2025-09-18T23:06:37.207621Z"
    }
   },
   "cell_type": "code",
   "source": [
    "# accuracy evaluation\n",
    "accuracy = np.mean(binary_pred == y)\n",
    "accuracy"
   ],
   "id": "a0b7fa1a2c82a3e3",
   "outputs": [
    {
     "data": {
      "text/plain": [
       "np.float64(0.9121930015214084)"
      ]
     },
     "execution_count": 38,
     "metadata": {},
     "output_type": "execute_result"
    }
   ],
   "execution_count": 38
  },
  {
   "metadata": {
    "ExecuteTime": {
     "end_time": "2025-09-18T23:06:37.222018Z",
     "start_time": "2025-09-18T23:06:37.220612Z"
    }
   },
   "cell_type": "code",
   "source": [
    "spam_min = np.min(spamy_pred)\n",
    "spam_max = np.max(spamy_pred)"
   ],
   "id": "308ae0c78221cc2b",
   "outputs": [],
   "execution_count": 39
  },
  {
   "metadata": {
    "ExecuteTime": {
     "end_time": "2025-09-18T23:06:37.231963Z",
     "start_time": "2025-09-18T23:06:37.229452Z"
    }
   },
   "cell_type": "code",
   "source": "spam_min",
   "id": "a1f0b8f37167d0d7",
   "outputs": [
    {
     "data": {
      "text/plain": [
       "np.float64(-0.6515491136232259)"
      ]
     },
     "execution_count": 40,
     "metadata": {},
     "output_type": "execute_result"
    }
   ],
   "execution_count": 40
  },
  {
   "metadata": {
    "ExecuteTime": {
     "end_time": "2025-09-18T23:06:37.243320Z",
     "start_time": "2025-09-18T23:06:37.241315Z"
    }
   },
   "cell_type": "code",
   "source": "spam_max",
   "id": "81db67206d1ac828",
   "outputs": [
    {
     "data": {
      "text/plain": [
       "np.float64(2.2708321220792214)"
      ]
     },
     "execution_count": 41,
     "metadata": {},
     "output_type": "execute_result"
    }
   ],
   "execution_count": 41
  },
  {
   "metadata": {},
   "cell_type": "markdown",
   "source": "### K-Fold cross validation working on Spam dataset",
   "id": "e72b474dfda8cae8"
  },
  {
   "metadata": {
    "ExecuteTime": {
     "end_time": "2025-09-18T23:06:37.257818Z",
     "start_time": "2025-09-18T23:06:37.249593Z"
    }
   },
   "cell_type": "code",
   "source": [
    "data = np.loadtxt(\"spambase/spambase.data\", delimiter=\",\")\n",
    "\n",
    "X = data[:, :-1]\n",
    "y = data[:,-1]"
   ],
   "id": "8e30bc6194e2de50",
   "outputs": [],
   "execution_count": 42
  },
  {
   "metadata": {
    "ExecuteTime": {
     "end_time": "2025-09-18T23:08:16.258134Z",
     "start_time": "2025-09-18T23:08:16.245894Z"
    }
   },
   "cell_type": "code",
   "source": [
    "from sklearn.model_selection import KFold\n",
    "kf = KFold(n_splits=5, shuffle=True, random_state=42)\n",
    "\n",
    "train_fold_accuracies = []\n",
    "test_fold_accuracies = []\n",
    "\n",
    "for train_index, test_index in kf.split(X):\n",
    "    X_train_fold = X[train_index]\n",
    "    X_test_fold = X[test_index]\n",
    "\n",
    "    y_train_fold = y[train_index]\n",
    "    y_test_fold = y[test_index]\n",
    "\n",
    "    # adding normalization:\n",
    "    train_mean = np.mean(X_train_fold, axis=0)\n",
    "    train_std = np.std(X_train_fold, axis=0)\n",
    "\n",
    "    X_train_normalized = (X_train_fold - train_mean) / train_std\n",
    "    X_test_normalized = (X_test_fold - train_mean) / train_std\n",
    "\n",
    "    # adding bias:\n",
    "    ones_col_Xtrain = np.ones((X_train_normalized.shape[0], 1))\n",
    "    ones_col_Xtest = np.ones((X_test_normalized.shape[0], 1))\n",
    "\n",
    "    spam_Xtrain_bias = np.hstack([ones_col_Xtrain, X_train_normalized])\n",
    "    spam_Xtest_bias = np.hstack([ones_col_Xtest, X_test_normalized])\n",
    "\n",
    "    # model training\n",
    "    spamXtrain_T = spam_Xtrain_bias.T\n",
    "\n",
    "    spamXtrain_dot = np.dot(spamXtrain_T, spam_Xtrain_bias)\n",
    "\n",
    "    spamXtrain_inverse = np.linalg.inv(spamXtrain_dot)\n",
    "\n",
    "    spamX_y_dot = np.dot(spamXtrain_T, y_train_fold)\n",
    "\n",
    "    best_weights_X = np.dot(spamXtrain_inverse, spamX_y_dot)\n",
    "\n",
    "    # predictions:\n",
    "    train_continuous_predictions = np.dot(spam_Xtrain_bias, best_weights_X)\n",
    "    test_continuous_predictions = np.dot(spam_Xtest_bias, best_weights_X)\n",
    "\n",
    "    # threshold for binary classification:\n",
    "    threshold = 0.43\n",
    "    test_binary_pred = (test_continuous_predictions > threshold).astype(int)\n",
    "    train_binary_pred = (train_continuous_predictions > threshold).astype(int)\n",
    "\n",
    "\n",
    "    # accuracy:\n",
    "    test_fold_accuracy = np.mean(test_binary_pred == y_test_fold)\n",
    "    train_fold_accuracy = np.mean(train_binary_pred == y_train_fold)\n",
    "    test_fold_accuracies.append(test_fold_accuracy)\n",
    "    train_fold_accuracies.append(train_fold_accuracy)\n",
    "\n",
    "test_mean_accuracy = np.mean(test_fold_accuracies)\n",
    "train_mean_accuracy = np.mean(train_fold_accuracies)\n",
    "\n",
    "print(f\"Testing accuracy: {test_mean_accuracy * 100}\")\n",
    "print(f\"Training accuracy: {train_mean_accuracy * 100}\")"
   ],
   "id": "702b0cf27d326f4d",
   "outputs": [
    {
     "name": "stdout",
     "output_type": "stream",
     "text": [
      "Testing accuracy: 90.80633054808101\n",
      "Training accuracy: 91.26275941084063\n"
     ]
    }
   ],
   "execution_count": 57
  },
  {
   "metadata": {},
   "cell_type": "markdown",
   "source": "### Question 1B - L2 Regularization",
   "id": "44f5f07daf867907"
  },
  {
   "metadata": {
    "ExecuteTime": {
     "end_time": "2025-09-18T23:06:38.289512Z",
     "start_time": "2025-09-18T23:06:38.280704Z"
    }
   },
   "cell_type": "code",
   "source": [
    "# loading datasets both housing and spam\n",
    "import numpy as np\n",
    "house_data_train = np.loadtxt(\"train.txt\")\n",
    "house_data_test = np.loadtxt(\"test.txt\")\n",
    "\n",
    "spam_data = np.loadtxt(\"spambase/spambase.data\", delimiter=\",\")"
   ],
   "id": "5505929907ba8b1e",
   "outputs": [],
   "execution_count": 44
  },
  {
   "metadata": {},
   "cell_type": "markdown",
   "source": "first going with housing dataset",
   "id": "30d7a121b75be4fa"
  },
  {
   "metadata": {
    "ExecuteTime": {
     "end_time": "2025-09-18T23:06:38.301431Z",
     "start_time": "2025-09-18T23:06:38.300088Z"
    }
   },
   "cell_type": "code",
   "source": [
    "# splitting data into train and test\n",
    "house_X = house_data_train[:,:-1]\n",
    "house_y = house_data_train[:, -1]"
   ],
   "id": "73a34c9461c8b8f1",
   "outputs": [],
   "execution_count": 45
  },
  {
   "metadata": {
    "ExecuteTime": {
     "end_time": "2025-09-18T23:06:38.306905Z",
     "start_time": "2025-09-18T23:06:38.304784Z"
    }
   },
   "cell_type": "code",
   "source": [
    "# normalization step:\n",
    "house_train_mean = np.mean(house_X, axis=0)\n",
    "house_train_std = np.std(house_X, axis=0)\n",
    "\n",
    "house_X_norm = (house_X-house_train_mean) / house_train_std\n",
    "house_X_norm[:3]"
   ],
   "id": "8d220ae3abb96479",
   "outputs": [
    {
     "data": {
      "text/plain": [
       "array([[-0.40654388,  0.27198037, -1.27084905, -0.26792196, -0.12875596,\n",
       "         0.38509581, -0.09515781,  0.14085217, -0.97070059, -0.61306377,\n",
       "        -1.4510964 ,  0.40955068, -1.04777883],\n",
       "       [-0.4040825 , -0.48740168, -0.55514244, -0.26792196, -0.72732782,\n",
       "         0.16863868,  0.3982737 ,  0.56797077, -0.85545152, -0.93587279,\n",
       "        -0.27507495,  0.40955068, -0.46031379],\n",
       "       [-0.40408485, -0.48740168, -0.55514244, -0.26792196, -0.72732782,\n",
       "         1.24249093, -0.2428271 ,  0.56797077, -0.85545152, -0.93587279,\n",
       "        -0.27507495,  0.36136762, -1.18193551]])"
      ]
     },
     "execution_count": 46,
     "metadata": {},
     "output_type": "execute_result"
    }
   ],
   "execution_count": 46
  },
  {
   "metadata": {
    "ExecuteTime": {
     "end_time": "2025-09-18T23:06:38.335053Z",
     "start_time": "2025-09-18T23:06:38.332441Z"
    }
   },
   "cell_type": "code",
   "source": [
    "# adding bias\n",
    "ones_col = np.ones((house_X_norm.shape[0], 1))\n",
    "house_X_with_bias = np.hstack([ones_col, house_X_norm])\n",
    "\n",
    "house_X_with_bias[:3]"
   ],
   "id": "e5ee607f5bdbb282",
   "outputs": [
    {
     "data": {
      "text/plain": [
       "array([[ 1.        , -0.40654388,  0.27198037, -1.27084905, -0.26792196,\n",
       "        -0.12875596,  0.38509581, -0.09515781,  0.14085217, -0.97070059,\n",
       "        -0.61306377, -1.4510964 ,  0.40955068, -1.04777883],\n",
       "       [ 1.        , -0.4040825 , -0.48740168, -0.55514244, -0.26792196,\n",
       "        -0.72732782,  0.16863868,  0.3982737 ,  0.56797077, -0.85545152,\n",
       "        -0.93587279, -0.27507495,  0.40955068, -0.46031379],\n",
       "       [ 1.        , -0.40408485, -0.48740168, -0.55514244, -0.26792196,\n",
       "        -0.72732782,  1.24249093, -0.2428271 ,  0.56797077, -0.85545152,\n",
       "        -0.93587279, -0.27507495,  0.36136762, -1.18193551]])"
      ]
     },
     "execution_count": 47,
     "metadata": {},
     "output_type": "execute_result"
    }
   ],
   "execution_count": 47
  },
  {
   "metadata": {},
   "cell_type": "markdown",
   "source": [
    "L2 Regularization Equation:\n",
    "$ \\theta = (X^TX + \\lambda I) X^T Y $"
   ],
   "id": "19e18f9de14a9df2"
  },
  {
   "metadata": {
    "ExecuteTime": {
     "end_time": "2025-09-18T23:06:38.423292Z",
     "start_time": "2025-09-18T23:06:38.420893Z"
    }
   },
   "cell_type": "code",
   "source": [
    "# using normal equation\n",
    "lambda_1 = 0.43\n",
    "\n",
    "house_X_transpose = house_X_with_bias.T\n",
    "\n",
    "dot_X = np.dot(house_X_transpose, house_X_with_bias)  # first term\n",
    "\n",
    "I_house = np.eye(house_X_with_bias.shape[1])\n",
    "\n",
    "dot_lambda = lambda_1 * I_house # second term\n",
    "\n",
    "add_X_lambda = dot_X + dot_lambda\n",
    "\n",
    "inverse_X_with_lambda = np.linalg.inv(add_X_lambda)\n",
    "\n",
    "XTy = np.dot(house_X_transpose, house_y)\n",
    "\n",
    "house_ridge_weights = np.dot(inverse_X_with_lambda, XTy)\n",
    "\n",
    "house_ridge_weights"
   ],
   "id": "a5e91db69791d18b",
   "outputs": [
    {
     "data": {
      "text/plain": [
       "array([22.8445193 , -0.85904107,  1.08023413, -0.0268609 ,  0.76961537,\n",
       "       -1.9746475 ,  2.6469713 ,  0.19472202, -3.27074685,  3.18693213,\n",
       "       -2.58308442, -2.17140003,  0.81931111, -4.14177781])"
      ]
     },
     "execution_count": 48,
     "metadata": {},
     "output_type": "execute_result"
    }
   ],
   "execution_count": 48
  },
  {
   "metadata": {
    "ExecuteTime": {
     "end_time": "2025-09-18T23:06:38.449014Z",
     "start_time": "2025-09-18T23:06:38.447616Z"
    }
   },
   "cell_type": "code",
   "source": [
    "train_eval_mse = np.dot(house_X_with_bias, house_ridge_weights)\n",
    "\n",
    "final_mse_1 = np.mean((train_eval_mse - house_y)**2)"
   ],
   "id": "d0d0a07b13c87e62",
   "outputs": [],
   "execution_count": 49
  },
  {
   "metadata": {
    "ExecuteTime": {
     "end_time": "2025-09-18T23:06:38.459147Z",
     "start_time": "2025-09-18T23:06:38.457177Z"
    }
   },
   "cell_type": "code",
   "source": "print(f\"Training MSE: {final_mse_1}\") # training mse",
   "id": "401495757cb3e260",
   "outputs": [
    {
     "name": "stdout",
     "output_type": "stream",
     "text": [
      "Training MSE: 22.08219671346033\n"
     ]
    }
   ],
   "execution_count": 50
  },
  {
   "metadata": {
    "ExecuteTime": {
     "end_time": "2025-09-18T23:06:38.468488Z",
     "start_time": "2025-09-18T23:06:38.466544Z"
    }
   },
   "cell_type": "code",
   "source": [
    "# test mse working:\n",
    "house_X_test = house_data_test[:,:-1]\n",
    "house_y_test = house_data_test[:,-1]\n",
    "\n",
    "house_X_test_norm = (house_X_test - house_train_mean) / house_train_std\n",
    "\n",
    "ones_col_test = np.ones((house_X_test_norm.shape[0], 1))\n",
    "house_X_test_bias = np.hstack([ones_col_test, house_X_test_norm])\n",
    "\n",
    "house_pred_test = np.dot(house_X_test_bias, house_ridge_weights)\n",
    "mse_house_test = np.mean((house_pred_test - house_y_test) ** 2)\n",
    "print(f\"Testing MSE: {mse_house_test}\")"
   ],
   "id": "1be65adeee8523a8",
   "outputs": [
    {
     "name": "stdout",
     "output_type": "stream",
     "text": [
      "Testing MSE: 22.59834254128926\n"
     ]
    }
   ],
   "execution_count": 51
  },
  {
   "metadata": {},
   "cell_type": "markdown",
   "source": "Spam dataset Working - L2 Regularization :  $ \\theta = (X^TX + \\lambda I) X^T Y $",
   "id": "e5c11ecb80983791"
  },
  {
   "metadata": {
    "ExecuteTime": {
     "end_time": "2025-09-18T23:06:38.581245Z",
     "start_time": "2025-09-18T23:06:38.484015Z"
    }
   },
   "cell_type": "code",
   "source": [
    "from sklearn.model_selection import KFold\n",
    "import numpy as np\n",
    "\n",
    "# Define lambda values to test\n",
    "lambda_values = np.logspace(-2, 1, 7)\n",
    "results = []\n",
    "\n",
    "kf = KFold(n_splits=10, shuffle=True, random_state=42)\n",
    "\n",
    "for lambda_val in lambda_values:\n",
    "    print(f\"Testing λ = {lambda_val}\")\n",
    "\n",
    "    train_fold_accuracies = []\n",
    "    test_fold_accuracies = []\n",
    "\n",
    "    for train_index, test_index in kf.split(X):\n",
    "        X_train_fold = X[train_index]\n",
    "        X_test_fold = X[test_index]\n",
    "        y_train_fold = y[train_index]\n",
    "        y_test_fold = y[test_index]\n",
    "\n",
    "        # normalization:\n",
    "        train_mean = np.mean(X_train_fold, axis=0)\n",
    "        train_std = np.std(X_train_fold, axis=0)\n",
    "        X_train_normalized = (X_train_fold - train_mean) / train_std\n",
    "        X_test_normalized = (X_test_fold - train_mean) / train_std\n",
    "\n",
    "        # adding bias:\n",
    "        ones_col_Xtrain = np.ones((X_train_normalized.shape[0], 1))\n",
    "        ones_col_Xtest = np.ones((X_test_normalized.shape[0], 1))\n",
    "        spam_Xtrain_bias = np.hstack([ones_col_Xtrain, X_train_normalized])\n",
    "        spam_Xtest_bias = np.hstack([ones_col_Xtest, X_test_normalized])\n",
    "\n",
    "        # Ridge regression\n",
    "        spamXtrain_T = spam_Xtrain_bias.T\n",
    "        spamXtrain_dot = np.dot(spamXtrain_T, spam_Xtrain_bias)\n",
    "        I_lambda = np.eye(spamXtrain_dot.shape[1])\n",
    "        add_X_lambda = spamXtrain_dot + lambda_val * I_lambda  # Use current lambda\n",
    "        spamXtrain_inverse = np.linalg.inv(add_X_lambda)\n",
    "        spamX_y_dot = np.dot(spamXtrain_T, y_train_fold)\n",
    "        best_weights_X = np.dot(spamXtrain_inverse, spamX_y_dot)\n",
    "\n",
    "        # predictions and accuracy\n",
    "        train_continuous_pred = np.dot(spam_Xtrain_bias, best_weights_X)\n",
    "        test_continuous_pred = np.dot(spam_Xtest_bias, best_weights_X)\n",
    "\n",
    "        threshold = 0.43\n",
    "        test_binary_pred = (test_continuous_pred > threshold).astype(int)\n",
    "        train_binary_pred = (train_continuous_pred > threshold).astype(int)\n",
    "\n",
    "        test_fold_accuracy = np.mean(test_binary_pred == y_test_fold)\n",
    "        train_fold_accuracy = np.mean(train_binary_pred == y_train_fold)\n",
    "\n",
    "        test_fold_accuracies.append(test_fold_accuracy)\n",
    "        train_fold_accuracies.append(train_fold_accuracy)\n",
    "\n",
    "    # Average across folds\n",
    "    avg_train = np.mean(train_fold_accuracies)\n",
    "    avg_test = np.mean(test_fold_accuracies)\n",
    "\n",
    "    results.append((lambda_val, avg_train, avg_test))\n",
    "    print(f\"λ={lambda_val}: Train={avg_train:.3f}, Test={avg_test:.3f}\")"
   ],
   "id": "4e96dee4367c59ca",
   "outputs": [
    {
     "name": "stdout",
     "output_type": "stream",
     "text": [
      "Testing λ = 0.01\n",
      "λ=0.01: Train=0.913, Test=0.910\n",
      "Testing λ = 0.03162277660168379\n",
      "λ=0.03162277660168379: Train=0.913, Test=0.910\n",
      "Testing λ = 0.1\n",
      "λ=0.1: Train=0.913, Test=0.910\n",
      "Testing λ = 0.31622776601683794\n",
      "λ=0.31622776601683794: Train=0.913, Test=0.910\n",
      "Testing λ = 1.0\n",
      "λ=1.0: Train=0.913, Test=0.910\n",
      "Testing λ = 3.1622776601683795\n",
      "λ=3.1622776601683795: Train=0.913, Test=0.910\n",
      "Testing λ = 10.0\n",
      "λ=10.0: Train=0.912, Test=0.910\n"
     ]
    }
   ],
   "execution_count": 52
  },
  {
   "metadata": {
    "ExecuteTime": {
     "end_time": "2025-09-19T00:03:43.293Z",
     "start_time": "2025-09-19T00:03:43.290758Z"
    }
   },
   "cell_type": "code",
   "source": [
    "train_accuracies = [result[1] for result in results]\n",
    "test_accuracies = [result[2] for result in results]\n",
    "\n",
    "print(f\"\\nSUMMARY STATISTICS:\")\n",
    "print(f\"Average Training Accuracy: {np.mean(train_accuracies)*100:.1f}%\")\n",
    "print(f\"Average Test Accuracy: {np.mean(test_accuracies)*100:.1f}%\")\n",
    "print(f\"Best Test Accuracy: {np.max(test_accuracies)*100:.1f}%\")\n",
    "print(f\"Average Generalization Gap: {np.mean([r[1]-r[2] for r in results])*100:.1f}%\")"
   ],
   "id": "d355ec1826cca8f1",
   "outputs": [
    {
     "name": "stdout",
     "output_type": "stream",
     "text": [
      "\n",
      "SUMMARY STATISTICS:\n",
      "Average Training Accuracy: 91.3%\n",
      "Average Test Accuracy: 91.0%\n",
      "Best Test Accuracy: 91.0%\n",
      "Average Generalization Gap: 0.3%\n"
     ]
    }
   ],
   "execution_count": 63
  },
  {
   "metadata": {
    "ExecuteTime": {
     "end_time": "2025-09-19T00:05:09.541816Z",
     "start_time": "2025-09-19T00:05:09.536228Z"
    }
   },
   "cell_type": "code",
   "source": [
    "train_accuracies = [result[1] for result in results]\n",
    "test_accuracies = [result[2] for result in results]\n",
    "\n",
    "print(f\"\\nSUMMARY STATISTICS:\")\n",
    "print(f\"Average Training Accuracy: {np.mean(train_accuracies)*100:.1f}%\")\n",
    "print(f\"Average Test Accuracy: {np.mean(test_accuracies)*100:.1f}%\")\n",
    "print(f\"Average Generalization Gap: {np.mean([r[1]-r[2] for r in results])*100:.1f}%\")\n",
    "\n",
    "best_test_idx = np.argmax(test_accuracies)\n",
    "worst_test_idx = np.argmin(test_accuracies)\n",
    "\n",
    "print(f\"\\nBEST PERFORMANCE:\")\n",
    "print(f\"Lambda: {results[best_test_idx][0]:.3f}\")\n",
    "print(f\"Train Accuracy: {results[best_test_idx][1]*100:.1f}%\")\n",
    "print(f\"Test Accuracy: {results[best_test_idx][2]*100:.1f}%\")\n",
    "\n",
    "print(f\"\\nWORST PERFORMANCE:\")\n",
    "print(f\"Lambda: {results[worst_test_idx][0]:.3f}\")\n",
    "print(f\"Train Accuracy: {results[worst_test_idx][1]*100:.1f}%\")\n",
    "print(f\"Test Accuracy: {results[worst_test_idx][2]*100:.1f}%\")"
   ],
   "id": "2620357b2dcd6628",
   "outputs": [
    {
     "name": "stdout",
     "output_type": "stream",
     "text": [
      "\n",
      "SUMMARY STATISTICS:\n",
      "Average Training Accuracy: 91.3%\n",
      "Average Test Accuracy: 91.0%\n",
      "Average Generalization Gap: 0.3%\n",
      "\n",
      "BEST PERFORMANCE:\n",
      "Lambda: 0.010\n",
      "Train Accuracy: 91.3%\n",
      "Test Accuracy: 91.0%\n",
      "\n",
      "WORST PERFORMANCE:\n",
      "Lambda: 0.010\n",
      "Train Accuracy: 91.3%\n",
      "Test Accuracy: 91.0%\n"
     ]
    }
   ],
   "execution_count": 65
  },
  {
   "metadata": {},
   "cell_type": "code",
   "outputs": [],
   "execution_count": null,
   "source": "",
   "id": "81ba10bb18f8f478"
  }
 ],
 "metadata": {
  "kernelspec": {
   "display_name": "Python 3",
   "language": "python",
   "name": "python3"
  },
  "language_info": {
   "codemirror_mode": {
    "name": "ipython",
    "version": 2
   },
   "file_extension": ".py",
   "mimetype": "text/x-python",
   "name": "python",
   "nbconvert_exporter": "python",
   "pygments_lexer": "ipython2",
   "version": "2.7.6"
  }
 },
 "nbformat": 4,
 "nbformat_minor": 5
}
