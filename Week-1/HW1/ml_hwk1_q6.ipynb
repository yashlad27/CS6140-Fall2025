{
 "cells": [
  {
   "metadata": {},
   "cell_type": "markdown",
   "source": "## 6. Perceptron",
   "id": "bcf39dbe16679499"
  },
  {
   "cell_type": "code",
   "id": "initial_id",
   "metadata": {
    "collapsed": true,
    "ExecuteTime": {
     "end_time": "2025-09-18T20:47:06.207350Z",
     "start_time": "2025-09-18T20:47:06.202296Z"
    }
   },
   "source": [
    "import numpy as np\n",
    "perceptron_data = np.loadtxt(\"perceptron_data.txt\", delimiter=\"\\t\")\n",
    "\n",
    "X = perceptron_data[:, :-1] # features\n",
    "y = perceptron_data[:, -1] # labels are either +1 or -1\n",
    "\n",
    "print(f\"Data shape: {perceptron_data.shape}\")\n",
    "print(f\"Features shape: {X.shape}\")\n",
    "print(f\"Labels shape: {y.shape}\")"
   ],
   "outputs": [
    {
     "name": "stdout",
     "output_type": "stream",
     "text": [
      "Data shape: (1000, 5)\n",
      "Features shape: (1000, 4)\n",
      "Labels shape: (1000,)\n"
     ]
    }
   ],
   "execution_count": 5
  },
  {
   "metadata": {},
   "cell_type": "markdown",
   "source": [
    "Perceptron learning rule (learns by fixing its mistakes):\n",
    "$$w_{\\text{new}} = w_{\\text{old}} + y \\cdot x$$\n",
    "\n",
    "this is the weight update formula"
   ],
   "id": "3c2c29166a1c6997"
  },
  {
   "metadata": {
    "ExecuteTime": {
     "end_time": "2025-09-18T23:14:11.035032Z",
     "start_time": "2025-09-18T23:14:11.013120Z"
    }
   },
   "cell_type": "code",
   "source": [
    "def perceptron_algo(X, y, lr=1.0, max_iter=1000):\n",
    "    n_samples, n_features = X.shape\n",
    "\n",
    "    weights = np.zeros(n_features + 1)\n",
    "    iteration = 1\n",
    "    while iteration <= max_iter:\n",
    "        total_mistakes = 0\n",
    "\n",
    "        for i in range(n_samples):\n",
    "            x_with_bias = np.array([1] + list(X[i]))\n",
    "\n",
    "            prediction_val = np.dot(weights, x_with_bias)\n",
    "            prediction = 1 if prediction_val >= 0 else -1\n",
    "\n",
    "            if prediction != y[i]:\n",
    "                weights += lr * y[i] * x_with_bias\n",
    "                total_mistakes +=1\n",
    "        print(f\"iteration {iteration}, total_mistake {total_mistakes}\")\n",
    "\n",
    "        if total_mistakes==0:\n",
    "            print(\"Converged!\")\n",
    "            break\n",
    "        iteration += 1\n",
    "\n",
    "    return weights\n",
    "\n",
    "final_weights = perceptron_algo(X, y)"
   ],
   "id": "9a0ac305b3e7e6",
   "outputs": [
    {
     "name": "stdout",
     "output_type": "stream",
     "text": [
      "iteration 1, total_mistake 136\n",
      "iteration 2, total_mistake 68\n",
      "iteration 3, total_mistake 50\n",
      "iteration 4, total_mistake 22\n",
      "iteration 5, total_mistake 21\n",
      "iteration 6, total_mistake 34\n",
      "iteration 7, total_mistake 25\n",
      "iteration 8, total_mistake 0\n",
      "Converged!\n"
     ]
    }
   ],
   "execution_count": 6
  },
  {
   "metadata": {
    "ExecuteTime": {
     "end_time": "2025-09-18T23:18:23.791860Z",
     "start_time": "2025-09-18T23:18:23.789952Z"
    }
   },
   "cell_type": "code",
   "source": [
    "print(\"Classifier weights: \", end=\" \")\n",
    "for weight in final_weights:\n",
    "    print(f\"{weight}\", end=\" \")"
   ],
   "id": "3f945c6b21c7e262",
   "outputs": [
    {
     "name": "stdout",
     "output_type": "stream",
     "text": [
      "Classifier weights:  -14.0 2.5287325879008797 5.707170513923717 8.522314571678628 11.32560723224928 "
     ]
    }
   ],
   "execution_count": 11
  },
  {
   "metadata": {},
   "cell_type": "markdown",
   "source": [
    "### Normalization:\n",
    "below is the equation where perceptron learns weights:\n",
    "$$ w_0 + w_1x_1 + w_2x_2 + w_3x_3 + w_4x_4 = 0 $$\n",
    "\n",
    "but we need to express it in standard form so we need shift  $$w_0$$ to RHS and  divide by $$-w_0$$:\n",
    "\n",
    "so we get normalized weights as:\n",
    "\n",
    "$$ (new) w_i = w_i / -w_0 $$\n",
    "\n",
    "\n"
   ],
   "id": "d314431636a3d5d0"
  },
  {
   "metadata": {
    "ExecuteTime": {
     "end_time": "2025-09-18T23:18:25.128346Z",
     "start_time": "2025-09-18T23:18:25.124539Z"
    }
   },
   "cell_type": "code",
   "source": [
    "w0 = final_weights[0]\n",
    "normalized_weights = -final_weights[1:] / w0\n",
    "\n",
    "print(\"Normalized with threshold: \", end=\" \")\n",
    "for norm_wt in normalized_weights:\n",
    "    print(f\"{norm_wt}\", end=\" \")"
   ],
   "id": "ce58fd35379579f2",
   "outputs": [
    {
     "name": "stdout",
     "output_type": "stream",
     "text": [
      "Normalized with threshold:  0.18062375627863428 0.40765503670883696 0.608736755119902 0.8089719451606628 "
     ]
    }
   ],
   "execution_count": 12
  },
  {
   "metadata": {},
   "cell_type": "code",
   "outputs": [],
   "execution_count": null,
   "source": "",
   "id": "e5d9b235634449b4"
  }
 ],
 "metadata": {
  "kernelspec": {
   "display_name": "Python 3",
   "language": "python",
   "name": "python3"
  },
  "language_info": {
   "codemirror_mode": {
    "name": "ipython",
    "version": 2
   },
   "file_extension": ".py",
   "mimetype": "text/x-python",
   "name": "python",
   "nbconvert_exporter": "python",
   "pygments_lexer": "ipython2",
   "version": "2.7.6"
  }
 },
 "nbformat": 4,
 "nbformat_minor": 5
}
