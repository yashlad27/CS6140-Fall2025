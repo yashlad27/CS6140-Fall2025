{
 "cells": [
  {
   "metadata": {},
   "cell_type": "markdown",
   "source": [
    "## Problem 4 - Implement SVM with SMO Solver:\n",
    "SMO algo solves the SVM optimization problem by breaking it into smallest possible sub problems.\n",
    "\n",
    "Dual SVM Problem:\n",
    "$$\n",
    "max \\sum_{i=1}^n \\alpha_i - \\frac{1}{2} \\sum_{i,j=1}^n \\alpha_i \\alpha_j y_i y_j K(x_i, x_j)\n",
    "$$\n",
    "\n",
    "under following conditions:\n",
    "- $ 0 <= \\alpha_i <= C $ for all i\n",
    "- $ \\sum_{i=1}^n \\alpha_i y_i = 0 $\n",
    "\n",
    "Idea: instead of solving for all alpha values at once - SMO\n",
    "1. Picks two alpha values at a time ($ \\alpha_i , \\alpha_j $)\n",
    "2. optimizes this pair and keeps others fixed\n",
    "3. repeats the process with other $ \\alpha $"
   ],
   "id": "40ee3bfed9dfb3af"
  },
  {
   "cell_type": "code",
   "id": "initial_id",
   "metadata": {
    "collapsed": true,
    "ExecuteTime": {
     "end_time": "2025-09-27T02:21:54.979591Z",
     "start_time": "2025-09-27T02:21:54.976554Z"
    }
   },
   "source": [
    "import numpy as np\n",
    "import random\n",
    "from sklearn.preprocessing import StandardScaler\n",
    "from sklearn.model_selection import train_test_split"
   ],
   "outputs": [],
   "execution_count": 7
  },
  {
   "metadata": {},
   "cell_type": "code",
   "outputs": [],
   "execution_count": null,
   "source": "",
   "id": "fee9ed5b768688fb"
  }
 ],
 "metadata": {
  "kernelspec": {
   "display_name": "Python 3",
   "language": "python",
   "name": "python3"
  },
  "language_info": {
   "codemirror_mode": {
    "name": "ipython",
    "version": 2
   },
   "file_extension": ".py",
   "mimetype": "text/x-python",
   "name": "python",
   "nbconvert_exporter": "python",
   "pygments_lexer": "ipython2",
   "version": "2.7.6"
  }
 },
 "nbformat": 4,
 "nbformat_minor": 5
}
