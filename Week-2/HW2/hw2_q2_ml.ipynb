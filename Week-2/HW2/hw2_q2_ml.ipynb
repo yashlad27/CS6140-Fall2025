{
 "cells": [
  {
   "metadata": {},
   "cell_type": "markdown",
   "source": [
    "# Problem 2:\n",
    "Logistic regression with Newton's method"
   ],
   "id": "76ec8108af045217"
  },
  {
   "metadata": {
    "ExecuteTime": {
     "end_time": "2025-09-25T00:17:20.447184Z",
     "start_time": "2025-09-25T00:17:20.440923Z"
    }
   },
   "cell_type": "code",
   "source": [
    "import numpy as np\n",
    "from sklearn.preprocessing import StandardScaler\n",
    "from sklearn.model_selection import train_test_split"
   ],
   "id": "5ed0dd5bb65234ad",
   "outputs": [],
   "execution_count": 30
  },
  {
   "metadata": {},
   "cell_type": "markdown",
   "source": "Logistic Regression - Sigmoid Function",
   "id": "4f44899e52604069"
  },
  {
   "metadata": {
    "ExecuteTime": {
     "end_time": "2025-09-25T00:17:20.454282Z",
     "start_time": "2025-09-25T00:17:20.452053Z"
    }
   },
   "cell_type": "code",
   "source": [
    "def sigmoid(z):\n",
    "    return 1/(1+np.exp(-np.clip(z, -500, 500)))"
   ],
   "id": "c071e59020d23e86",
   "outputs": [],
   "execution_count": 31
  },
  {
   "metadata": {},
   "cell_type": "markdown",
   "source": "Gradient first derivative:",
   "id": "9581067d2af4ffb8"
  },
  {
   "metadata": {
    "ExecuteTime": {
     "end_time": "2025-09-25T00:17:20.460022Z",
     "start_time": "2025-09-25T00:17:20.458096Z"
    }
   },
   "cell_type": "code",
   "source": [
    "def gradient_lr(X, y, theta):\n",
    "    n = X.shape[0]\n",
    "\n",
    "    z = X @ theta\n",
    "    predictions = sigmoid(z)\n",
    "\n",
    "    gradient = (1/n) * X.T @ (predictions - y)\n",
    "\n",
    "    return gradient, predictions"
   ],
   "id": "e9a89372e295639e",
   "outputs": [],
   "execution_count": 32
  },
  {
   "metadata": {},
   "cell_type": "markdown",
   "source": "Hessian Matrix Second Derivative:",
   "id": "2fed40e332c23c0c"
  },
  {
   "metadata": {
    "ExecuteTime": {
     "end_time": "2025-09-25T00:17:20.464274Z",
     "start_time": "2025-09-25T00:17:20.462534Z"
    }
   },
   "cell_type": "code",
   "source": [
    "def hessian_matrix(X, predictions):\n",
    "    n = X.shape[0]\n",
    "\n",
    "    uncertainty_weights = predictions * (1-predictions)\n",
    "\n",
    "    W = np.diag(uncertainty_weights)\n",
    "\n",
    "    X_transpose_W = X.T @ W\n",
    "\n",
    "    hessian = (1/n) * X_transpose_W @ X\n",
    "\n",
    "    return hessian"
   ],
   "id": "b8e03a88d407e7bd",
   "outputs": [],
   "execution_count": 33
  },
  {
   "metadata": {},
   "cell_type": "markdown",
   "source": "Newton's Update:",
   "id": "8db5c3c530f85726"
  },
  {
   "metadata": {
    "ExecuteTime": {
     "end_time": "2025-09-25T00:17:20.468270Z",
     "start_time": "2025-09-25T00:17:20.466400Z"
    }
   },
   "cell_type": "code",
   "source": [
    "def newton_update(theta, gradient, hessian):\n",
    "    d = hessian.shape[0]\n",
    "\n",
    "    hessian_regularization = hessian + np.eye(d) * 1e-8\n",
    "\n",
    "    hessian_inverse = np.linalg.inv(hessian_regularization)\n",
    "\n",
    "    delta = hessian_inverse @ gradient\n",
    "\n",
    "    theta_new = theta - delta\n",
    "\n",
    "    return theta_new, delta"
   ],
   "id": "2830ff3580aae405",
   "outputs": [],
   "execution_count": 34
  },
  {
   "metadata": {},
   "cell_type": "markdown",
   "source": "Newton's Method with Logistic Regression:",
   "id": "72fb6614e01e82b1"
  },
  {
   "metadata": {
    "ExecuteTime": {
     "end_time": "2025-09-25T00:17:20.472981Z",
     "start_time": "2025-09-25T00:17:20.470483Z"
    }
   },
   "cell_type": "code",
   "source": [
    "def newton_method_log(X, y, max_iter=15, tol=1e-6):\n",
    "    n, d = X.shape\n",
    "    theta = np.zeros(d)\n",
    "\n",
    "    loss_history = []\n",
    "    gradient_norms = []\n",
    "\n",
    "    for iteration in range(max_iter):\n",
    "        gradient, predictions = gradient_lr(X, y, theta)\n",
    "\n",
    "        hessian = hessian_matrix(X, predictions)\n",
    "\n",
    "        theta, delta = newton_update(theta, gradient, hessian)\n",
    "\n",
    "        gradient_norm = np.linalg.norm(gradient)\n",
    "        gradient_norms.append(gradient_norms)\n",
    "\n",
    "        epsilon = 1e-7\n",
    "        loss = -np.mean(\n",
    "            y*np.log(predictions + epsilon) +\n",
    "            (1-y) * np.log(1-predictions+epsilon)\n",
    "        )\n",
    "        loss_history.append(loss)\n",
    "\n",
    "        # iteration progress check:\n",
    "        if iteration % 3 ==0:\n",
    "            print(f\"Iter {iteration:2d}: ||gradient|| = {gradient_norm:.6e}\")\n",
    "\n",
    "        if gradient_norm < tol:\n",
    "            print(f\"\\n Converged at iteration {iteration}\")\n",
    "            break\n",
    "\n",
    "    return theta, loss_history, gradient_norms"
   ],
   "id": "1452b597f9215815",
   "outputs": [],
   "execution_count": 35
  },
  {
   "metadata": {},
   "cell_type": "markdown",
   "source": "Spambase data preprocessing:",
   "id": "64f5f1df06b210fb"
  },
  {
   "metadata": {
    "ExecuteTime": {
     "end_time": "2025-09-25T00:17:20.490765Z",
     "start_time": "2025-09-25T00:17:20.474809Z"
    }
   },
   "cell_type": "code",
   "source": [
    "data = np.loadtxt(\"spambase/spambase.data\", delimiter=\",\")\n",
    "X = data[:, :-1]\n",
    "y = data[:, -1]\n",
    "\n",
    "scaler_spam = StandardScaler()\n",
    "X_normalized = scaler_spam.fit_transform(X)\n",
    "\n",
    "X_train, X_test, y_train, y_test = train_test_split(X_normalized, y, test_size=0.2, random_state=42)\n",
    "\n",
    "X_train_bias = np.c_[np.ones((X_train.shape[0], 1)), X_train]\n",
    "X_test_bias = np.c_[np.ones((X_test.shape[0], 1)), X_test]"
   ],
   "id": "665cbc80b204abf5",
   "outputs": [],
   "execution_count": 36
  },
  {
   "metadata": {},
   "cell_type": "markdown",
   "source": "Now training Newton's update on Spambase:",
   "id": "ced1279fe533680e"
  },
  {
   "metadata": {
    "ExecuteTime": {
     "end_time": "2025-09-25T00:17:20.677978Z",
     "start_time": "2025-09-25T00:17:20.494713Z"
    }
   },
   "cell_type": "code",
   "source": [
    "theta_newton, loss_newton, grad_norms_newton = newton_method_log(\n",
    "    X_train_bias, y_train, max_iter=20, tol=1e-6\n",
    ")\n",
    "\n",
    "train_prob_newton = sigmoid(X_train_bias @ theta_newton)\n",
    "test_prob_newton = sigmoid(X_test_bias @ theta_newton)\n",
    "\n",
    "train_pred_newton = (train_prob_newton >= 0.5).astype(int)\n",
    "test_pred_newton = (test_prob_newton >= 0.5).astype(int)\n",
    "\n",
    "train_accuracy = np.mean(train_pred_newton == y_train)\n",
    "test_accuracy = np.mean(test_pred_newton == y_test)\n",
    "\n",
    "print(\"\\n\" + \"=\"*60)\n",
    "print(\"NEWTON'S METHOD RESULTS:\")\n",
    "print(f\"Converged in: {len(grad_norms_newton)} iterations\")\n",
    "print(f\"Train Accuracy: {train_accuracy:.4f}\")\n",
    "print(f\"Test Accuracy: {test_accuracy:.4f}\")\n",
    "print(\"=\"*60)"
   ],
   "id": "b21150713f84c069",
   "outputs": [
    {
     "name": "stdout",
     "output_type": "stream",
     "text": [
      "Iter  0: ||gradient|| = 6.798478e-01\n",
      "Iter  3: ||gradient|| = 2.921431e-02\n",
      "Iter  6: ||gradient|| = 2.729030e-03\n",
      "Iter  9: ||gradient|| = 7.854493e-04\n",
      "Iter 12: ||gradient|| = 1.321202e-05\n",
      "\n",
      " Converged at iteration 13\n",
      "\n",
      "============================================================\n",
      "NEWTON'S METHOD RESULTS:\n",
      "Converged in: 14 iterations\n",
      "Train Accuracy: 0.9315\n",
      "Test Accuracy: 0.9131\n",
      "============================================================\n"
     ]
    }
   ],
   "execution_count": 37
  },
  {
   "metadata": {},
   "cell_type": "code",
   "outputs": [],
   "execution_count": null,
   "source": "",
   "id": "ed423a4b36cefeaa"
  }
 ],
 "metadata": {
  "kernelspec": {
   "display_name": "Python 3",
   "language": "python",
   "name": "python3"
  },
  "language_info": {
   "codemirror_mode": {
    "name": "ipython",
    "version": 2
   },
   "file_extension": ".py",
   "mimetype": "text/x-python",
   "name": "python",
   "nbconvert_exporter": "python",
   "pygments_lexer": "ipython2",
   "version": "2.7.6"
  }
 },
 "nbformat": 4,
 "nbformat_minor": 5
}
