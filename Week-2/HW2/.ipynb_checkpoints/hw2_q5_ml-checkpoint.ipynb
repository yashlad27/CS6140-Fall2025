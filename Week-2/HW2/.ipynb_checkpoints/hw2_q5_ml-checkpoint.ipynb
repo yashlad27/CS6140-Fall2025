{
 "cells": [
  {
   "cell_type": "markdown",
   "id": "3e672b8d-15cf-4542-9994-9e15bade31b7",
   "metadata": {},
   "source": [
    "## Problem 5: KNN"
   ]
  },
  {
   "cell_type": "code",
   "execution_count": 1,
   "id": "9bc7cf4a-ee9a-4704-a8dd-63d784991d7d",
   "metadata": {
    "ExecuteTime": {
     "end_time": "2025-09-28T23:11:10.412605Z",
     "start_time": "2025-09-28T23:11:09.592729Z"
    }
   },
   "outputs": [],
   "source": [
    "import numpy as np\n",
    "from sklearn.preprocessing import StandardScaler\n",
    "from sklearn.model_selection import train_test_split\n",
    "from sklearn.metrics.pairwise import pairwise_distances, rbf_kernel, polynomial_kernel\n",
    "from scipy.stats import mode"
   ]
  },
  {
   "cell_type": "code",
   "execution_count": 2,
   "id": "a7191e93-02c3-4f00-bd81-df809d2a25f1",
   "metadata": {
    "ExecuteTime": {
     "end_time": "2025-09-28T23:11:10.855963Z",
     "start_time": "2025-09-28T23:11:10.415425Z"
    }
   },
   "outputs": [],
   "source": [
    "# load spambase:\n",
    "data_spam = np.loadtxt(\"spambase/spambase.data\", delimiter=\",\")\n",
    "X_spam = data_spam[:, :-1]\n",
    "y_spam = data_spam[:, -1]\n",
    "\n",
    "scaler_spam = StandardScaler()\n",
    "X_spam_norm = scaler_spam.fit_transform(X_spam)\n",
    "X_train_spam, X_test_spam, y_train_spam, y_test_spam = train_test_split(\n",
    "    X_spam_norm, y_spam, test_size=0.2, random_state=42)\n",
    "\n",
    "# load digits:\n",
    "X_train_digits = np.loadtxt(\"mnist_haar_bingyu/training_image.txt\", delimiter=\",\")\n",
    "y_train_digits = np.loadtxt(\"mnist_haar_bingyu/training_label.txt\", delimiter=\",\")\n",
    "X_test_digits = np.loadtxt(\"mnist_haar_bingyu/testing_image.txt\", delimiter=\",\")\n",
    "y_test_digits = np.loadtxt(\"mnist_haar_bingyu/testing_label.txt\", delimiter=\",\")\n",
    "\n",
    "scaler_digits = StandardScaler()\n",
    "X_train_digits_norm = scaler_digits.fit_transform(X_train_digits)\n",
    "X_test_digits_norm = scaler_digits.transform(X_test_digits)"
   ]
  },
  {
   "cell_type": "markdown",
   "id": "7c21556a6ec6d07c",
   "metadata": {},
   "source": [
    "## PART A:"
   ]
  },
  {
   "cell_type": "code",
   "execution_count": 3,
   "id": "9691ea0b5ce25e11",
   "metadata": {
    "ExecuteTime": {
     "end_time": "2025-09-28T23:11:10.861078Z",
     "start_time": "2025-09-28T23:11:10.859160Z"
    }
   },
   "outputs": [],
   "source": [
    "def knn_classifier(X_train, y_train, X_test, k, metric = 'euclidean'):\n",
    "    \"\"\"\n",
    "    k-NN classifier implementation\n",
    "\n",
    "    Args:\n",
    "        X_train: Training features\n",
    "        y_train: Training labels\n",
    "        X_test: Test features\n",
    "        k: Number of nearest neighbors\n",
    "        metric: Distance metric or kernel type\n",
    "\n",
    "    Returns:\n",
    "        predictions: Array of predicted labels for test set\n",
    "    \"\"\"\n",
    "    n_test = X_test.shape[0]\n",
    "    predictions = np.zeros(n_test)\n",
    "    n_batches = (n_test + batch_size - 1) // batch_size\n",
    "\n",
    "    \n",
    "    \n",
    "    # 1. calculate distances:\n",
    "    if metric in ['euclidean', 'cosine']:\n",
    "        distances = pairwise_distances(X_test, X_train, metric=metric)\n",
    "    elif metric == 'gaussian':\n",
    "        distances = -rbf_kernel(X_test, X_train, gamma=1.0)\n",
    "    elif metric == 'polynomial':\n",
    "        distances = -polynomial_kernel(X_test, X_train, degree=2, coef0=1)\n",
    "\n",
    "     # Find k-nearest neighbors for each point in batch\n",
    "        for i in range(distances.shape[0]):\n",
    "            if k == 1:\n",
    "                # Optimize for k=1\n",
    "                predictions[start + i] = y_train[np.argmin(distances[i])]\n",
    "            else:\n",
    "                # Use argpartition for efficiency\n",
    "                k_nearest_idx = np.argpartition(distances[i], k)[:k]\n",
    "                k_nearest_labels = y_train[k_nearest_idx]\n",
    "                predictions[start + i] = mode(k_nearest_labels, keepdims=True)[0][0]\n",
    "        \n",
    "        # Progress update\n",
    "        if batch_idx % max(1, n_batches // 10) == 0:\n",
    "            print(f\"    Batch {batch_idx+1}/{n_batches} processed\", end='\\r')\n",
    "    \n",
    "    print()  \n",
    "    return predictions"
   ]
  },
  {
   "cell_type": "markdown",
   "id": "68dbf60228a4698a",
   "metadata": {},
   "source": [
    "A1 : Implementation of Spambase : (Euclidean)"
   ]
  },
  {
   "cell_type": "code",
   "execution_count": 4,
   "id": "d160cb93c2bf62e0",
   "metadata": {
    "ExecuteTime": {
     "end_time": "2025-09-28T23:11:13.782053Z",
     "start_time": "2025-09-28T23:11:10.865379Z"
    }
   },
   "outputs": [
    {
     "name": "stdout",
     "output_type": "stream",
     "text": [
      "SPAMBASE RESULTS (Euclidean Distance):\n",
      "\n"
     ]
    },
    {
     "ename": "NameError",
     "evalue": "name 'predictions' is not defined",
     "output_type": "error",
     "traceback": [
      "\u001b[0;31m---------------------------------------------------------------------------\u001b[0m",
      "\u001b[0;31mNameError\u001b[0m                                 Traceback (most recent call last)",
      "Cell \u001b[0;32mIn[4], line 3\u001b[0m\n\u001b[1;32m      1\u001b[0m \u001b[38;5;28mprint\u001b[39m(\u001b[38;5;124m\"\u001b[39m\u001b[38;5;124mSPAMBASE RESULTS (Euclidean Distance):\u001b[39m\u001b[38;5;124m\"\u001b[39m)\n\u001b[1;32m      2\u001b[0m \u001b[38;5;28;01mfor\u001b[39;00m k \u001b[38;5;129;01min\u001b[39;00m [\u001b[38;5;241m1\u001b[39m, \u001b[38;5;241m3\u001b[39m, \u001b[38;5;241m7\u001b[39m]:\n\u001b[0;32m----> 3\u001b[0m     train_pred \u001b[38;5;241m=\u001b[39m knn_classifier(X_train_spam, y_train_spam, X_train_spam, k, metric\u001b[38;5;241m=\u001b[39m\u001b[38;5;124m'\u001b[39m\u001b[38;5;124meuclidean\u001b[39m\u001b[38;5;124m'\u001b[39m)\n\u001b[1;32m      4\u001b[0m     train_acc \u001b[38;5;241m=\u001b[39m np\u001b[38;5;241m.\u001b[39mmean(train_pred \u001b[38;5;241m==\u001b[39m y_train_spam) \u001b[38;5;241m*\u001b[39m \u001b[38;5;241m100\u001b[39m\n\u001b[1;32m      6\u001b[0m     test_pred \u001b[38;5;241m=\u001b[39m knn_classifier(X_train_spam, y_train_spam, X_test_spam, k, metric\u001b[38;5;241m=\u001b[39m\u001b[38;5;124m'\u001b[39m\u001b[38;5;124meuclidean\u001b[39m\u001b[38;5;124m'\u001b[39m)\n",
      "Cell \u001b[0;32mIn[3], line 39\u001b[0m, in \u001b[0;36mknn_classifier\u001b[0;34m(X_train, y_train, X_test, k, metric)\u001b[0m\n\u001b[1;32m     36\u001b[0m         \u001b[38;5;28mprint\u001b[39m(\u001b[38;5;124mf\u001b[39m\u001b[38;5;124m\"\u001b[39m\u001b[38;5;124m    Batch \u001b[39m\u001b[38;5;132;01m{\u001b[39;00mbatch_idx\u001b[38;5;241m+\u001b[39m\u001b[38;5;241m1\u001b[39m\u001b[38;5;132;01m}\u001b[39;00m\u001b[38;5;124m/\u001b[39m\u001b[38;5;132;01m{\u001b[39;00mn_batches\u001b[38;5;132;01m}\u001b[39;00m\u001b[38;5;124m processed\u001b[39m\u001b[38;5;124m\"\u001b[39m, end\u001b[38;5;241m=\u001b[39m\u001b[38;5;124m'\u001b[39m\u001b[38;5;130;01m\\r\u001b[39;00m\u001b[38;5;124m'\u001b[39m)\n\u001b[1;32m     38\u001b[0m \u001b[38;5;28mprint\u001b[39m()  \n\u001b[0;32m---> 39\u001b[0m \u001b[38;5;28;01mreturn\u001b[39;00m predictions\n",
      "\u001b[0;31mNameError\u001b[0m: name 'predictions' is not defined"
     ]
    }
   ],
   "source": [
    "print(\"SPAMBASE RESULTS (Euclidean Distance):\")\n",
    "for k in [1, 3, 7]:\n",
    "    train_pred = knn_classifier(X_train_spam, y_train_spam, X_train_spam, k, metric='euclidean')\n",
    "    train_acc = np.mean(train_pred == y_train_spam) * 100\n",
    "\n",
    "    test_pred = knn_classifier(X_train_spam, y_train_spam, X_test_spam, k, metric='euclidean')\n",
    "    test_acc = np.mean(test_pred == y_test_spam) * 100\n",
    "\n",
    "    print(f\"k={k}: Train Accuracy: {train_acc:.2f}%, Test Accuracy: {test_acc:.2f}%\")"
   ]
  },
  {
   "cell_type": "markdown",
   "id": "6bf8791ef3af23f4",
   "metadata": {},
   "source": [
    "A2: Implementation of Digits: (Cosine)"
   ]
  },
  {
   "cell_type": "code",
   "execution_count": 5,
   "id": "f06e8cbd1658f81e",
   "metadata": {
    "ExecuteTime": {
     "end_time": "2025-09-28T23:18:45.085967Z",
     "start_time": "2025-09-28T23:11:13.820515Z"
    }
   },
   "outputs": [
    {
     "name": "stdout",
     "output_type": "stream",
     "text": [
      "\n",
      "DIGITS RESULTS (Cosine Distance):\n"
     ]
    },
    {
     "ename": "KeyboardInterrupt",
     "evalue": "",
     "output_type": "error",
     "traceback": [
      "\u001b[31m---------------------------------------------------------------------------\u001b[39m",
      "\u001b[31mKeyboardInterrupt\u001b[39m                         Traceback (most recent call last)",
      "\u001b[36mCell\u001b[39m\u001b[36m \u001b[39m\u001b[32mIn[5]\u001b[39m\u001b[32m, line 3\u001b[39m\n\u001b[32m      1\u001b[39m \u001b[38;5;28mprint\u001b[39m(\u001b[33m\"\u001b[39m\u001b[38;5;130;01m\\n\u001b[39;00m\u001b[33mDIGITS RESULTS (Cosine Distance):\u001b[39m\u001b[33m\"\u001b[39m)\n\u001b[32m      2\u001b[39m \u001b[38;5;28;01mfor\u001b[39;00m k \u001b[38;5;129;01min\u001b[39;00m [\u001b[32m1\u001b[39m, \u001b[32m3\u001b[39m, \u001b[32m7\u001b[39m]:\n\u001b[32m----> \u001b[39m\u001b[32m3\u001b[39m     train_pred = \u001b[43mknn_classifier\u001b[49m\u001b[43m(\u001b[49m\u001b[43mX_train_digits_norm\u001b[49m\u001b[43m,\u001b[49m\u001b[43m \u001b[49m\u001b[43my_train_digits\u001b[49m\u001b[43m,\u001b[49m\u001b[43m \u001b[49m\u001b[43mX_train_digits_norm\u001b[49m\u001b[43m,\u001b[49m\u001b[43m \u001b[49m\u001b[43mk\u001b[49m\u001b[43m,\u001b[49m\u001b[43m \u001b[49m\u001b[43mmetric\u001b[49m\u001b[43m=\u001b[49m\u001b[33;43m'\u001b[39;49m\u001b[33;43mcosine\u001b[39;49m\u001b[33;43m'\u001b[39;49m\u001b[43m)\u001b[49m\n\u001b[32m      4\u001b[39m     train_acc = np.mean(train_pred == y_train_digits) * \u001b[32m100\u001b[39m\n\u001b[32m      6\u001b[39m     test_pred = knn_classifier(X_train_digits_norm, y_train_digits, X_test_digits_norm, k, metric=\u001b[33m'\u001b[39m\u001b[33mcosine\u001b[39m\u001b[33m'\u001b[39m)\n",
      "\u001b[36mCell\u001b[39m\u001b[36m \u001b[39m\u001b[32mIn[3]\u001b[39m\u001b[32m, line 17\u001b[39m, in \u001b[36mknn_classifier\u001b[39m\u001b[34m(X_train, y_train, X_test, k, metric)\u001b[39m\n\u001b[32m     15\u001b[39m \u001b[38;5;66;03m# 1. calculate distances:\u001b[39;00m\n\u001b[32m     16\u001b[39m \u001b[38;5;28;01mif\u001b[39;00m metric \u001b[38;5;129;01min\u001b[39;00m [\u001b[33m'\u001b[39m\u001b[33meuclidean\u001b[39m\u001b[33m'\u001b[39m, \u001b[33m'\u001b[39m\u001b[33mcosine\u001b[39m\u001b[33m'\u001b[39m]:\n\u001b[32m---> \u001b[39m\u001b[32m17\u001b[39m     distances = \u001b[43mpairwise_distances\u001b[49m\u001b[43m(\u001b[49m\u001b[43mX_test\u001b[49m\u001b[43m,\u001b[49m\u001b[43m \u001b[49m\u001b[43mX_train\u001b[49m\u001b[43m,\u001b[49m\u001b[43m \u001b[49m\u001b[43mmetric\u001b[49m\u001b[43m=\u001b[49m\u001b[43mmetric\u001b[49m\u001b[43m)\u001b[49m\n\u001b[32m     18\u001b[39m \u001b[38;5;28;01melif\u001b[39;00m metric == \u001b[33m'\u001b[39m\u001b[33mgaussian\u001b[39m\u001b[33m'\u001b[39m:\n\u001b[32m     19\u001b[39m     distances = -rbf_kernel(X_test, X_train, gamma=\u001b[32m1.0\u001b[39m)\n",
      "\u001b[36mFile \u001b[39m\u001b[32m~/Development/CS6140/.venv/lib/python3.13/site-packages/sklearn/utils/_param_validation.py:218\u001b[39m, in \u001b[36mvalidate_params.<locals>.decorator.<locals>.wrapper\u001b[39m\u001b[34m(*args, **kwargs)\u001b[39m\n\u001b[32m    212\u001b[39m \u001b[38;5;28;01mtry\u001b[39;00m:\n\u001b[32m    213\u001b[39m     \u001b[38;5;28;01mwith\u001b[39;00m config_context(\n\u001b[32m    214\u001b[39m         skip_parameter_validation=(\n\u001b[32m    215\u001b[39m             prefer_skip_nested_validation \u001b[38;5;129;01mor\u001b[39;00m global_skip_validation\n\u001b[32m    216\u001b[39m         )\n\u001b[32m    217\u001b[39m     ):\n\u001b[32m--> \u001b[39m\u001b[32m218\u001b[39m         \u001b[38;5;28;01mreturn\u001b[39;00m \u001b[43mfunc\u001b[49m\u001b[43m(\u001b[49m\u001b[43m*\u001b[49m\u001b[43margs\u001b[49m\u001b[43m,\u001b[49m\u001b[43m \u001b[49m\u001b[43m*\u001b[49m\u001b[43m*\u001b[49m\u001b[43mkwargs\u001b[49m\u001b[43m)\u001b[49m\n\u001b[32m    219\u001b[39m \u001b[38;5;28;01mexcept\u001b[39;00m InvalidParameterError \u001b[38;5;28;01mas\u001b[39;00m e:\n\u001b[32m    220\u001b[39m     \u001b[38;5;66;03m# When the function is just a wrapper around an estimator, we allow\u001b[39;00m\n\u001b[32m    221\u001b[39m     \u001b[38;5;66;03m# the function to delegate validation to the estimator, but we replace\u001b[39;00m\n\u001b[32m    222\u001b[39m     \u001b[38;5;66;03m# the name of the estimator by the name of the function in the error\u001b[39;00m\n\u001b[32m    223\u001b[39m     \u001b[38;5;66;03m# message to avoid confusion.\u001b[39;00m\n\u001b[32m    224\u001b[39m     msg = re.sub(\n\u001b[32m    225\u001b[39m         \u001b[33mr\u001b[39m\u001b[33m\"\u001b[39m\u001b[33mparameter of \u001b[39m\u001b[33m\\\u001b[39m\u001b[33mw+ must be\u001b[39m\u001b[33m\"\u001b[39m,\n\u001b[32m    226\u001b[39m         \u001b[33mf\u001b[39m\u001b[33m\"\u001b[39m\u001b[33mparameter of \u001b[39m\u001b[38;5;132;01m{\u001b[39;00mfunc.\u001b[34m__qualname__\u001b[39m\u001b[38;5;132;01m}\u001b[39;00m\u001b[33m must be\u001b[39m\u001b[33m\"\u001b[39m,\n\u001b[32m    227\u001b[39m         \u001b[38;5;28mstr\u001b[39m(e),\n\u001b[32m    228\u001b[39m     )\n",
      "\u001b[36mFile \u001b[39m\u001b[32m~/Development/CS6140/.venv/lib/python3.13/site-packages/sklearn/metrics/pairwise.py:2476\u001b[39m, in \u001b[36mpairwise_distances\u001b[39m\u001b[34m(X, Y, metric, n_jobs, force_all_finite, ensure_all_finite, **kwds)\u001b[39m\n\u001b[32m   2473\u001b[39m         \u001b[38;5;28;01mreturn\u001b[39;00m distance.squareform(distance.pdist(X, metric=metric, **kwds))\n\u001b[32m   2474\u001b[39m     func = partial(distance.cdist, metric=metric, **kwds)\n\u001b[32m-> \u001b[39m\u001b[32m2476\u001b[39m \u001b[38;5;28;01mreturn\u001b[39;00m \u001b[43m_parallel_pairwise\u001b[49m\u001b[43m(\u001b[49m\u001b[43mX\u001b[49m\u001b[43m,\u001b[49m\u001b[43m \u001b[49m\u001b[43mY\u001b[49m\u001b[43m,\u001b[49m\u001b[43m \u001b[49m\u001b[43mfunc\u001b[49m\u001b[43m,\u001b[49m\u001b[43m \u001b[49m\u001b[43mn_jobs\u001b[49m\u001b[43m,\u001b[49m\u001b[43m \u001b[49m\u001b[43m*\u001b[49m\u001b[43m*\u001b[49m\u001b[43mkwds\u001b[49m\u001b[43m)\u001b[49m\n",
      "\u001b[36mFile \u001b[39m\u001b[32m~/Development/CS6140/.venv/lib/python3.13/site-packages/sklearn/metrics/pairwise.py:1960\u001b[39m, in \u001b[36m_parallel_pairwise\u001b[39m\u001b[34m(X, Y, func, n_jobs, **kwds)\u001b[39m\n\u001b[32m   1957\u001b[39m X, Y, dtype = _return_float_dtype(X, Y)\n\u001b[32m   1959\u001b[39m \u001b[38;5;28;01mif\u001b[39;00m effective_n_jobs(n_jobs) == \u001b[32m1\u001b[39m:\n\u001b[32m-> \u001b[39m\u001b[32m1960\u001b[39m     \u001b[38;5;28;01mreturn\u001b[39;00m \u001b[43mfunc\u001b[49m\u001b[43m(\u001b[49m\u001b[43mX\u001b[49m\u001b[43m,\u001b[49m\u001b[43m \u001b[49m\u001b[43mY\u001b[49m\u001b[43m,\u001b[49m\u001b[43m \u001b[49m\u001b[43m*\u001b[49m\u001b[43m*\u001b[49m\u001b[43mkwds\u001b[49m\u001b[43m)\u001b[49m\n\u001b[32m   1962\u001b[39m \u001b[38;5;66;03m# enforce a threading backend to prevent data communication overhead\u001b[39;00m\n\u001b[32m   1963\u001b[39m fd = delayed(_dist_wrapper)\n",
      "\u001b[36mFile \u001b[39m\u001b[32m~/Development/CS6140/.venv/lib/python3.13/site-packages/sklearn/utils/_param_validation.py:191\u001b[39m, in \u001b[36mvalidate_params.<locals>.decorator.<locals>.wrapper\u001b[39m\u001b[34m(*args, **kwargs)\u001b[39m\n\u001b[32m    189\u001b[39m global_skip_validation = get_config()[\u001b[33m\"\u001b[39m\u001b[33mskip_parameter_validation\u001b[39m\u001b[33m\"\u001b[39m]\n\u001b[32m    190\u001b[39m \u001b[38;5;28;01mif\u001b[39;00m global_skip_validation:\n\u001b[32m--> \u001b[39m\u001b[32m191\u001b[39m     \u001b[38;5;28;01mreturn\u001b[39;00m \u001b[43mfunc\u001b[49m\u001b[43m(\u001b[49m\u001b[43m*\u001b[49m\u001b[43margs\u001b[49m\u001b[43m,\u001b[49m\u001b[43m \u001b[49m\u001b[43m*\u001b[49m\u001b[43m*\u001b[49m\u001b[43mkwargs\u001b[49m\u001b[43m)\u001b[49m\n\u001b[32m    193\u001b[39m func_sig = signature(func)\n\u001b[32m    195\u001b[39m \u001b[38;5;66;03m# Map *args/**kwargs to the function signature\u001b[39;00m\n",
      "\u001b[36mFile \u001b[39m\u001b[32m~/Development/CS6140/.venv/lib/python3.13/site-packages/sklearn/metrics/pairwise.py:1170\u001b[39m, in \u001b[36mcosine_distances\u001b[39m\u001b[34m(X, Y)\u001b[39m\n\u001b[32m   1168\u001b[39m S *= -\u001b[32m1\u001b[39m\n\u001b[32m   1169\u001b[39m S += \u001b[32m1\u001b[39m\n\u001b[32m-> \u001b[39m\u001b[32m1170\u001b[39m S = \u001b[43mxp\u001b[49m\u001b[43m.\u001b[49m\u001b[43mclip\u001b[49m\u001b[43m(\u001b[49m\u001b[43mS\u001b[49m\u001b[43m,\u001b[49m\u001b[43m \u001b[49m\u001b[32;43m0.0\u001b[39;49m\u001b[43m,\u001b[49m\u001b[43m \u001b[49m\u001b[32;43m2.0\u001b[39;49m\u001b[43m)\u001b[49m\n\u001b[32m   1171\u001b[39m \u001b[38;5;28;01mif\u001b[39;00m X \u001b[38;5;129;01mis\u001b[39;00m Y \u001b[38;5;129;01mor\u001b[39;00m Y \u001b[38;5;129;01mis\u001b[39;00m \u001b[38;5;28;01mNone\u001b[39;00m:\n\u001b[32m   1172\u001b[39m     \u001b[38;5;66;03m# Ensure that distances between vectors and themselves are set to 0.0.\u001b[39;00m\n\u001b[32m   1173\u001b[39m     \u001b[38;5;66;03m# This may not be the case due to floating point rounding errors.\u001b[39;00m\n\u001b[32m   1174\u001b[39m     _fill_or_add_to_diagonal(S, \u001b[32m0.0\u001b[39m, xp, add_value=\u001b[38;5;28;01mFalse\u001b[39;00m)\n",
      "\u001b[36mFile \u001b[39m\u001b[32m~/Development/CS6140/.venv/lib/python3.13/site-packages/sklearn/externals/array_api_compat/_internal.py:32\u001b[39m, in \u001b[36mget_xp.<locals>.inner.<locals>.wrapped_f\u001b[39m\u001b[34m(*args, **kwargs)\u001b[39m\n\u001b[32m     31\u001b[39m \u001b[38;5;28;01mdef\u001b[39;00m\u001b[38;5;250m \u001b[39m\u001b[34minner\u001b[39m(f: Callable[..., _T], /) -> Callable[..., _T]:\n\u001b[32m---> \u001b[39m\u001b[32m32\u001b[39m     \u001b[38;5;129m@wraps\u001b[39m(f)\n\u001b[32m     33\u001b[39m     \u001b[38;5;28;01mdef\u001b[39;00m\u001b[38;5;250m \u001b[39m\u001b[34mwrapped_f\u001b[39m(*args: \u001b[38;5;28mobject\u001b[39m, **kwargs: \u001b[38;5;28mobject\u001b[39m) -> \u001b[38;5;28mobject\u001b[39m:\n\u001b[32m     34\u001b[39m         \u001b[38;5;28;01mreturn\u001b[39;00m f(*args, xp=xp, **kwargs)\n\u001b[32m     36\u001b[39m     sig = signature(f)\n",
      "\u001b[31mKeyboardInterrupt\u001b[39m: "
     ]
    }
   ],
   "source": [
    "print(\"\\nDIGITS RESULTS (Cosine Distance):\")\n",
    "for k in [1, 3, 7]:\n",
    "    train_pred = knn_classifier(X_train_digits_norm, y_train_digits, X_train_digits_norm, k, metric='cosine')\n",
    "    train_acc = np.mean(train_pred == y_train_digits) * 100\n",
    "\n",
    "    test_pred = knn_classifier(X_train_digits_norm, y_train_digits, X_test_digits_norm, k, metric='cosine')\n",
    "    test_acc = np.mean(test_pred == y_test_digits) * 100\n",
    "\n",
    "    print(f\"k={k}: Train Accuracy: {train_acc:.2f}%, Test Accuracy: {test_acc:.2f}%\")"
   ]
  },
  {
   "cell_type": "markdown",
   "id": "785aaa20c2d975fc",
   "metadata": {},
   "source": [
    "A3: Implementation of KNN using Digits: ( Gaussian / RBF ):"
   ]
  },
  {
   "cell_type": "code",
   "execution_count": null,
   "id": "3acbeb58384536f1",
   "metadata": {},
   "outputs": [],
   "source": [
    "print(\"\\nDIGITS RESULTS (Gaussian/RBF Kernel):\")\n",
    "for k in [1, 3, 7]:\n",
    "    train_pred = knn_classifier(X_train_digits_norm, y_train_digits, X_train_digits_norm, k, metric='gaussian')\n",
    "    train_acc = np.mean(train_pred == y_train_digits) * 100\n",
    "\n",
    "    test_pred = knn_classifier(X_train_digits_norm, y_train_digits, X_test_digits_norm, k, metric='gaussian')\n",
    "    test_acc = np.mean(test_pred == y_test_digits) * 100\n",
    "\n",
    "    print(f\"k={k}: Train Accuracy: {train_acc:.2f}%, Test Accuracy: {test_acc:.2f}%\")"
   ]
  },
  {
   "cell_type": "markdown",
   "id": "769aae35cacb6974",
   "metadata": {},
   "source": [
    "A4: Implementation of KNN on Digits:(Polynomial kernel)"
   ]
  },
  {
   "cell_type": "code",
   "execution_count": null,
   "id": "e30f802ba1edd142",
   "metadata": {},
   "outputs": [],
   "source": [
    "print(\"\\nDIGITS RESULTS (Polynomial Kernel):\")\n",
    "for k in [1, 3, 7]:\n",
    "    train_pred = knn_classifier(X_train_digits_norm, y_train_digits, X_train_digits_norm, k, metric='polynomial')\n",
    "    train_acc = np.mean(train_pred == y_train_digits) * 100\n",
    "\n",
    "    test_pred = knn_classifier(X_train_digits_norm, y_train_digits, X_test_digits_norm, k, metric='polynomial')\n",
    "    test_acc = np.mean(test_pred == y_test_digits) * 100\n",
    "\n",
    "    print(f\"k={k}: Train Accuracy: {train_acc:.2f}%, Test Accuracy: {test_acc:.2f}%\")"
   ]
  },
  {
   "cell_type": "markdown",
   "id": "58fa8fed3d1e4f04",
   "metadata": {},
   "source": [
    "## PART - B:"
   ]
  },
  {
   "cell_type": "code",
   "execution_count": 8,
   "id": "ecf37eec18d7cd44",
   "metadata": {
    "ExecuteTime": {
     "end_time": "2025-09-28T23:19:45.627706Z",
     "start_time": "2025-09-28T23:19:45.623990Z"
    }
   },
   "outputs": [],
   "source": [
    "def knn_fixed_window(X_train, y_train, X_test, radius, metric='euclidean'):\n",
    "    \"\"\"\n",
    "    k-NN with fixed window (radius) approach\n",
    "\n",
    "    Args:\n",
    "        X_train: Training features\n",
    "        y_train: Training labels\n",
    "        X_test: Test features\n",
    "        radius: Maximum distance for neighbors to be included\n",
    "        metric: Distance metric\n",
    "\n",
    "    Returns:\n",
    "        predictions: Array of predicted labels\n",
    "    \"\"\"\n",
    "\n",
    "    distances = pairwise_distances(X_test, X_train, metric=metric)\n",
    "\n",
    "    n_test = X_test.shape[0]\n",
    "    predictions = np.zeros(n_test)\n",
    "\n",
    "    for i in range(n_test):\n",
    "        neighbors_mask = distances[i] <= radius\n",
    "        neighbors_labels = y_train[neighbors_mask]\n",
    "\n",
    "        if len(neighbors_labels) > 0:\n",
    "            predictions[i] = mode(neighbors_labels, keepdims=True)[0][0]\n",
    "        else:\n",
    "            nearest_idx = np.argmin(distances[i])\n",
    "            predictions[i] = y_train[nearest_idx]\n",
    "\n",
    "    return predictions"
   ]
  },
  {
   "cell_type": "code",
   "execution_count": null,
   "id": "52e9038af38b456a",
   "metadata": {
    "ExecuteTime": {
     "start_time": "2025-09-28T23:19:46.134890Z"
    },
    "jupyter": {
     "is_executing": true
    }
   },
   "outputs": [
    {
     "name": "stdout",
     "output_type": "stream",
     "text": [
      "PART B - FIXED WINDOW APPROACH\n",
      "==================================================\n",
      "\n",
      "SPAMBASE RESULTS (Euclidean Distance):\n",
      "Radius=0.5: Train Acc: 99.59%, Test Acc: 89.79%\n",
      "  (283/921 test points had neighbors)\n",
      "Radius=1.0: Train Acc: 99.18%, Test Acc: 89.58%\n",
      "  (332/921 test points had neighbors)\n",
      "Radius=1.5: Train Acc: 98.56%, Test Acc: 89.47%\n",
      "  (424/921 test points had neighbors)\n",
      "Radius=2.0: Train Acc: 97.50%, Test Acc: 89.36%\n",
      "  (523/921 test points had neighbors)\n",
      "\n",
      "DIGITS RESULTS (Cosine Distance):\n"
     ]
    }
   ],
   "source": [
    "print(\"PART B - FIXED WINDOW APPROACH\")\n",
    "print(\"=\"*50)\n",
    "print(\"\\nSPAMBASE RESULTS (Euclidean Distance):\")\n",
    "\n",
    "# Try different radius values to find optimal\n",
    "radii_spam = [0.5, 1.0, 1.5, 2.0]\n",
    "\n",
    "for radius in radii_spam:\n",
    "    # Train predictions\n",
    "    train_pred = knn_fixed_window(X_train_spam, y_train_spam,\n",
    "                                  X_train_spam, radius, metric='euclidean')\n",
    "    train_acc = np.mean(train_pred == y_train_spam) * 100\n",
    "\n",
    "    # Test predictions\n",
    "    test_pred = knn_fixed_window(X_train_spam, y_train_spam,\n",
    "                                 X_test_spam, radius, metric='euclidean')\n",
    "    test_acc = np.mean(test_pred == y_test_spam) * 100\n",
    "\n",
    "    # Count how many test points had neighbors\n",
    "    distances_test = pairwise_distances(X_test_spam, X_train_spam, metric='euclidean')\n",
    "    points_with_neighbors = np.sum(np.any(distances_test <= radius, axis=1))\n",
    "\n",
    "    print(f\"Radius={radius}: Train Acc: {train_acc:.2f}%, Test Acc: {test_acc:.2f}%\")\n",
    "    print(f\"  ({points_with_neighbors}/{len(X_test_spam)} test points had neighbors)\")\n",
    "\n",
    "# Part B: Digits with Cosine distance\n",
    "print(\"\\nDIGITS RESULTS (Cosine Distance):\")\n",
    "\n",
    "# Try different radius values\n",
    "radii_digits = [0.05, 0.1, 0.15, 0.2]\n",
    "\n",
    "for radius in radii_digits:\n",
    "    # Train predictions\n",
    "    train_pred = knn_fixed_window(X_train_digits_norm, y_train_digits,\n",
    "                                  X_train_digits_norm, radius, metric='cosine')\n",
    "    train_acc = np.mean(train_pred == y_train_digits) * 100\n",
    "\n",
    "    # Test predictions\n",
    "    test_pred = knn_fixed_window(X_train_digits_norm, y_train_digits,\n",
    "                                 X_test_digits_norm, radius, metric='cosine')\n",
    "    test_acc = np.mean(test_pred == y_test_digits) * 100\n",
    "\n",
    "    # Count how many test points had neighbors\n",
    "    distances_test = pairwise_distances(X_test_digits_norm, X_train_digits_norm, metric='cosine')\n",
    "    points_with_neighbors = np.sum(np.any(distances_test <= radius, axis=1))\n",
    "\n",
    "    print(f\"Radius={radius}: Train Acc: {train_acc:.2f}%, Test Acc: {test_acc:.2f}%\")\n",
    "    print(f\"  ({points_with_neighbors}/{len(X_test_digits_norm)} test points had neighbors)\")"
   ]
  },
  {
   "cell_type": "code",
   "execution_count": null,
   "id": "f2523331b0ae4519",
   "metadata": {},
   "outputs": [],
   "source": [
    "def find_optimal_radius(X_train, y_train, X_test, y_test,\n",
    "                       radius_range, metric='euclidean'):\n",
    "    \"\"\"\n",
    "    Find the optimal radius for fixed window k-NN\n",
    "    \"\"\"\n",
    "    best_radius = None\n",
    "    best_test_acc = 0\n",
    "\n",
    "    for radius in radius_range:\n",
    "        test_pred = knn_fixed_window(X_train, y_train, X_test, radius, metric)\n",
    "        test_acc = np.mean(test_pred == y_test) * 100\n",
    "\n",
    "        if test_acc > best_test_acc:\n",
    "            best_test_acc = test_acc\n",
    "            best_radius = radius\n",
    "\n",
    "    return best_radius, best_test_acc\n",
    "\n",
    "radius_range_spam = np.linspace(0.5, 2.0, 20)\n",
    "best_r_spam, best_acc_spam = find_optimal_radius(\n",
    "    X_train_spam, y_train_spam, X_test_spam, y_test_spam,\n",
    "    radius_range_spam, metric='euclidean'\n",
    ")\n",
    "print(f\"\\nOptimal radius for Spambase: {best_r_spam:.3f} (Test Acc: {best_acc_spam:.2f}%)\")\n",
    "\n",
    "radius_range_digits = np.linspace(0.05, 0.2, 20)\n",
    "best_r_digits, best_acc_digits = find_optimal_radius(\n",
    "    X_train_digits_norm, y_train_digits, X_test_digits_norm, y_test_digits,\n",
    "    radius_range_digits, metric='cosine'\n",
    ")\n",
    "print(f\"Optimal radius for Digits: {best_r_digits:.3f} (Test Acc: {best_acc_digits:.2f}%)\")"
   ]
  },
  {
   "cell_type": "markdown",
   "id": "bc3a4f3ea3a39428",
   "metadata": {},
   "source": [
    "## PART - C:"
   ]
  },
  {
   "cell_type": "code",
   "execution_count": 6,
   "id": "7a691119b933cc89",
   "metadata": {
    "ExecuteTime": {
     "end_time": "2025-09-28T23:19:15.988452Z",
     "start_time": "2025-09-28T23:19:15.979996Z"
    }
   },
   "outputs": [],
   "source": [
    "def knn_kernel_density_estimation(X_train, y_train, X_test, kernel='gaussian', gamma=1.0):\n",
    "    \"\"\"\n",
    "    k-NN using Kernel Density Estimation with Bayesian probability\n",
    "\n",
    "    Args:\n",
    "        X_train: Training features\n",
    "        y_train: Training labels\n",
    "        X_test: Test features\n",
    "        kernel: Type of kernel ('gaussian' or 'polynomial')\n",
    "        gamma: Parameter for RBF kernel\n",
    "\n",
    "    Returns:\n",
    "        predictions: Array of predicted labels\n",
    "    \"\"\"\n",
    "    classes = np.unique(y_train)\n",
    "    n_classes = len(classes)\n",
    "    n_test = X_test.shape[0]\n",
    "\n",
    "    # class priors P(C) = count(C) / total\n",
    "    class_priors = {}\n",
    "    for c in classes:\n",
    "        class_priors[c] = np.sum(y_train == c) / len(y_train)\n",
    "\n",
    "    if kernel == 'gaussian':\n",
    "        K = rbf_kernel(X_test, X_train, gamma=gamma)\n",
    "    elif kernel == 'polynomial':\n",
    "        K = polynomial_kernel(X_test, X_train, degree=2, coef0=1)\n",
    "\n",
    "    # P(z|C) for each test pt and class:\n",
    "    log_posteriors = np.zeros((n_test, n_classes))\n",
    "\n",
    "    for i, c in enumerate(classes):\n",
    "        class_mask = (y_train == c)\n",
    "        mc = np.sum(class_mask)\n",
    "\n",
    "        if mc > 0:\n",
    "            p_z_given_c = np.sum(K[:, class_mask], axis=1) / mc\n",
    "\n",
    "            epsilon = 1e-10\n",
    "            p_z_given_c = np.maximum(p_z_given_c, epsilon)\n",
    "\n",
    "            # log P(C|z) = log P(C) + log P(z|C)\n",
    "            log_posteriors[:, i] = np.log(class_priors[c]) + np.log(p_z_given_c)\n",
    "\n",
    "        predictions = classes[np.argmax(log_posteriors, axis=1)]\n",
    "\n",
    "        return predictions"
   ]
  },
  {
   "cell_type": "code",
   "execution_count": 7,
   "id": "f8fc4fcb01aa7a57",
   "metadata": {
    "ExecuteTime": {
     "end_time": "2025-09-28T23:19:17.176066Z",
     "start_time": "2025-09-28T23:19:16.632112Z"
    }
   },
   "outputs": [
    {
     "name": "stdout",
     "output_type": "stream",
     "text": [
      "PART C - KERNEL DENSITY ESTIMATION\n",
      "==================================================\n",
      "\n",
      "SPAMBASE RESULTS (Gaussian/RBF Kernel):\n",
      "Gamma=0.001: Train Acc: 38.67%, Test Acc: 42.35%\n",
      "Gamma=0.01: Train Acc: 38.67%, Test Acc: 42.35%\n",
      "Gamma=0.1: Train Acc: 38.67%, Test Acc: 42.35%\n",
      "Gamma=1.0: Train Acc: 38.67%, Test Acc: 42.35%\n",
      "\n",
      "Finding optimal gamma...\n",
      "\n",
      "Best results with gamma=0.01:\n",
      "Train Accuracy: 38.67%\n",
      "Test Accuracy: 42.35%\n"
     ]
    }
   ],
   "source": [
    "print(\"PART C - KERNEL DENSITY ESTIMATION\")\n",
    "print(\"=\"*50)\n",
    "print(\"\\nSPAMBASE RESULTS (Gaussian/RBF Kernel):\")\n",
    "\n",
    "gammas = [0.001, 0.01, 0.1, 1.0]\n",
    "\n",
    "for gamma in gammas:\n",
    "    train_pred = knn_kernel_density_estimation(\n",
    "        X_train_spam, y_train_spam, X_train_spam,\n",
    "        kernel='gaussian', gamma=gamma\n",
    "    )\n",
    "    train_acc = np.mean(train_pred == y_train_spam) * 100\n",
    "\n",
    "    test_pred = knn_kernel_density_estimation(\n",
    "        X_train_spam, y_train_spam, X_test_spam,\n",
    "        kernel='gaussian', gamma=gamma\n",
    "    )\n",
    "    test_acc = np.mean(test_pred == y_test_spam) * 100\n",
    "\n",
    "    print(f\"Gamma={gamma}: Train Acc: {train_acc:.2f}%, Test Acc: {test_acc:.2f}%\")\n",
    "\n",
    "print(\"\\nFinding optimal gamma...\")\n",
    "best_gamma = 0.01\n",
    "train_pred = knn_kernel_density_estimation(\n",
    "    X_train_spam, y_train_spam, X_train_spam,\n",
    "    kernel='gaussian', gamma=best_gamma\n",
    ")\n",
    "train_acc = np.mean(train_pred == y_train_spam) * 100\n",
    "\n",
    "test_pred = knn_kernel_density_estimation(\n",
    "    X_train_spam, y_train_spam, X_test_spam,\n",
    "    kernel='gaussian', gamma=best_gamma\n",
    ")\n",
    "test_acc = np.mean(test_pred == y_test_spam) * 100\n",
    "\n",
    "print(f\"\\nBest results with gamma={best_gamma}:\")\n",
    "print(f\"Train Accuracy: {train_acc:.2f}%\")\n",
    "print(f\"Test Accuracy: {test_acc:.2f}%\")"
   ]
  }
 ],
 "metadata": {
  "kernelspec": {
   "display_name": "Python 3 (ipykernel)",
   "language": "python",
   "name": "python3"
  },
  "language_info": {
   "codemirror_mode": {
    "name": "ipython",
    "version": 3
   },
   "file_extension": ".py",
   "mimetype": "text/x-python",
   "name": "python",
   "nbconvert_exporter": "python",
   "pygments_lexer": "ipython3",
   "version": "3.13.5"
  }
 },
 "nbformat": 4,
 "nbformat_minor": 5
}
