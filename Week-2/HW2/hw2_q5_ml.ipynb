{
 "cells": [
  {
   "cell_type": "markdown",
   "id": "3e672b8d-15cf-4542-9994-9e15bade31b7",
   "metadata": {},
   "source": [
    "## Problem 5: KNN"
   ]
  },
  {
   "cell_type": "code",
   "execution_count": 4,
   "id": "9bc7cf4a-ee9a-4704-a8dd-63d784991d7d",
   "metadata": {},
   "outputs": [],
   "source": [
    "import numpy as np\n",
    "from sklearn.preprocessing import StandardScaler\n",
    "from sklearn.model_selection import train_test_split\n",
    "from scipy.spatial.distance import cdist"
   ]
  },
  {
   "cell_type": "code",
   "execution_count": 6,
   "id": "a7191e93-02c3-4f00-bd81-df809d2a25f1",
   "metadata": {},
   "outputs": [],
   "source": [
    "# load spambase:\n",
    "data_spam = np.loadtxt(\"spambase/spambase.data\", delimiter=\",\")\n",
    "X_spam = data_spam[:, :-1]\n",
    "y_spam = data_spam[:, -1]\n",
    "\n",
    "scaler_spam = StandardScaler()\n",
    "X_spam_norm = scaler_spam.fit_transform(X_spam)\n",
    "X_train_spam, X_test_spam, y_train_spam, y_test_spam = train_test_split(\n",
    "    X_spam_norm, y_spam, test_size=0.2, random_state=42)\n",
    "\n",
    "# load digits:\n",
    "X_train_digits = np.loadtxt(\"mnist_haar_bingyu/training_image.txt\", delimiter=\",\")\n",
    "y_train_digits = np.loadtxt(\"mnist_haar_bingyu/training_label.txt\", delimiter=\",\")\n",
    "X_test_digits = np.loadtxt(\"mnist_haar_bingyu/testing_image.txt\", delimiter=\",\")\n",
    "y_test_digits = np.loadtxt(\"mnist_haar_bingyu/testing_label.txt\", delimiter=\",\")\n",
    "\n",
    "scaler_digits = StandardScaler()\n",
    "X_train_digits_norm = scaler_digits.fit_transform(X_train_digits)\n",
    "X_test_digits_norm = scaler_digits.transform(X_test_digits)"
   ]
  },
  {
   "cell_type": "code",
   "execution_count": null,
   "id": "a4723f19-35a4-4beb-b6b6-6a5e433d863d",
   "metadata": {},
   "outputs": [],
   "source": [
    "class KNNClassifier:\n",
    "    def __init__(self, k=3, distance_metric='euclidean'):\n",
    "        self.k = k\n",
    "        self.distance_metric = distance_metric\n",
    "\n",
    "    def fit(self, X_train, y_train):\n",
    "        self.X_train = X_train\n",
    "        self.y_train = y_train\n",
    "\n",
    "    def euclidean_distance(self, X1, X2):\n",
    "        return cdist(X1, X2, metric='euclidean')\n",
    "        "
   ]
  }
 ],
 "metadata": {
  "kernelspec": {
   "display_name": "Python 3 (ipykernel)",
   "language": "python",
   "name": "python3"
  },
  "language_info": {
   "codemirror_mode": {
    "name": "ipython",
    "version": 3
   },
   "file_extension": ".py",
   "mimetype": "text/x-python",
   "name": "python",
   "nbconvert_exporter": "python",
   "pygments_lexer": "ipython3",
   "version": "3.13.5"
  }
 },
 "nbformat": 4,
 "nbformat_minor": 5
}
