{
 "cells": [
  {
   "metadata": {},
   "cell_type": "markdown",
   "source": "## HW2",
   "id": "4bb93ec22b123498"
  },
  {
   "cell_type": "code",
   "id": "initial_id",
   "metadata": {
    "collapsed": true,
    "ExecuteTime": {
     "end_time": "2025-09-19T17:01:15.991357Z",
     "start_time": "2025-09-19T17:01:15.460400Z"
    }
   },
   "source": [
    "import numpy as np\n",
    "from sklearn.preprocessing import StandardScaler\n",
    "\n",
    "# housing dataset:\n",
    "train_house = np.loadtxt(\"housing_data/train.txt\")\n",
    "test_house = np.loadtxt(\"housing_data/test.txt\")"
   ],
   "outputs": [],
   "execution_count": 6
  },
  {
   "metadata": {},
   "cell_type": "markdown",
   "source": "Q1 A - Housing dataset with Linear Reg (normal eqns)",
   "id": "9e1c22d47f3967b4"
  },
  {
   "metadata": {
    "ExecuteTime": {
     "end_time": "2025-09-19T17:31:25.720388Z",
     "start_time": "2025-09-19T17:31:25.715180Z"
    }
   },
   "cell_type": "code",
   "source": [
    "# 1. separate features and labels\n",
    "X_train = train_house[:, :-1]\n",
    "y_train = train_house[:, -1]\n",
    "X_test = test_house[:, :-1]\n",
    "y_test = test_house[:, -1]\n",
    "\n",
    "# 2. Normalization step\n",
    "scaler = StandardScaler()\n",
    "scaler.fit(X_train)\n",
    "X_train_normalized = scaler.transform(X_train)\n",
    "X_test_normalized = scaler.transform(X_test)\n",
    "\n",
    "# 3. bias step\n",
    "ones_col_Xtrain = np.ones((X_train_normalized.shape[0], 1))\n",
    "ones_col_Xtest = np.ones((X_test_normalized.shape[0], 1))\n",
    "\n",
    "Xtrain_house_bias = np.hstack([ones_col_Xtrain, X_train_normalized])\n",
    "Xtest_house_bias = np.hstack([ones_col_Xtest, X_test_normalized])\n",
    "\n",
    "# 4. Normal Eqn step\n",
    "Xtrain_T = Xtrain_house_bias.T\n",
    "Xtrain_dot = np.dot(Xtrain_T, Xtrain_house_bias)\n",
    "Xtrain_inv = np.linalg.inv(Xtrain_dot)\n",
    "Xtrain_y_dot = np.dot(Xtrain_T, y_train)\n",
    "theta_1 = np.dot(Xtrain_inv, Xtrain_y_dot)\n",
    "\n",
    "# 5. Prediction step\n",
    "train_house_pred = np.dot(Xtrain_house_bias, theta_1)\n",
    "test_house_pred = np.dot(Xtest_house_bias, theta_1)\n",
    "\n",
    "# 6. MSE for linear reg with normal equations\n",
    "train_mse_1 = np.mean((train_house_pred-y_train)**2)\n",
    "test_mse_1 = np.mean((test_house_pred-y_test)**2)\n",
    "\n",
    "print(f\"TRAIN-MSE-1 Housing data with Linear Reg: {train_mse_1}\")\n",
    "print(f\"TEST-MSE-1 Housing data with Linear Reg: {test_mse_1}\")"
   ],
   "id": "d13cf7e86c65b1bc",
   "outputs": [
    {
     "name": "stdout",
     "output_type": "stream",
     "text": [
      "TRAIN-MSE-1 Housing data with Linear Reg: 22.081273187013167\n",
      "TEST-MSE-1 Housing data with Linear Reg: 22.638256296587716\n"
     ]
    }
   ],
   "execution_count": 15
  },
  {
   "metadata": {},
   "cell_type": "markdown",
   "source": "Q1 B - Housing dataset with Linear Ridge Reg",
   "id": "96b02f7b39733cf0"
  },
  {
   "metadata": {},
   "cell_type": "code",
   "outputs": [],
   "execution_count": null,
   "source": "#",
   "id": "3f439b0a55100397"
  },
  {
   "metadata": {},
   "cell_type": "markdown",
   "source": "Q1 C - Housing dataset with Linear Reg (Gradient Descent)",
   "id": "32ee584dce246064"
  },
  {
   "metadata": {},
   "cell_type": "code",
   "outputs": [],
   "execution_count": null,
   "source": "",
   "id": "6d37fa010a9893f6"
  },
  {
   "metadata": {},
   "cell_type": "markdown",
   "source": "Q1 D - Housing dataset with Logistic Reg (Gradient Descent)",
   "id": "f4c57d99285c68e4"
  },
  {
   "metadata": {},
   "cell_type": "code",
   "outputs": [],
   "execution_count": null,
   "source": "",
   "id": "153280d5f09dd560"
  }
 ],
 "metadata": {
  "kernelspec": {
   "display_name": "Python 3",
   "language": "python",
   "name": "python3"
  },
  "language_info": {
   "codemirror_mode": {
    "name": "ipython",
    "version": 2
   },
   "file_extension": ".py",
   "mimetype": "text/x-python",
   "name": "python",
   "nbconvert_exporter": "python",
   "pygments_lexer": "ipython2",
   "version": "2.7.6"
  }
 },
 "nbformat": 4,
 "nbformat_minor": 5
}
