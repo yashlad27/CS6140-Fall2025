{
 "cells": [
  {
   "metadata": {},
   "cell_type": "markdown",
   "source": "## HW2",
   "id": "4bb93ec22b123498"
  },
  {
   "cell_type": "code",
   "id": "initial_id",
   "metadata": {
    "collapsed": true,
    "ExecuteTime": {
     "end_time": "2025-09-19T17:01:15.991357Z",
     "start_time": "2025-09-19T17:01:15.460400Z"
    }
   },
   "source": [
    "import numpy as np\n",
    "from sklearn.preprocessing import StandardScaler\n",
    "\n",
    "# housing dataset:\n",
    "train_house = np.loadtxt(\"housing_data/train.txt\")\n",
    "test_house = np.loadtxt(\"housing_data/test.txt\")"
   ],
   "outputs": [],
   "execution_count": 6
  },
  {
   "metadata": {},
   "cell_type": "markdown",
   "source": "Q1 A - Housing dataset with Linear Reg (normal eqns)",
   "id": "9e1c22d47f3967b4"
  },
  {
   "metadata": {
    "ExecuteTime": {
     "end_time": "2025-09-19T17:31:25.720388Z",
     "start_time": "2025-09-19T17:31:25.715180Z"
    }
   },
   "cell_type": "code",
   "source": [
    "# 1. separate features and labels\n",
    "X_train = train_house[:, :-1]\n",
    "y_train = train_house[:, -1]\n",
    "X_test = test_house[:, :-1]\n",
    "y_test = test_house[:, -1]\n",
    "\n",
    "# 2. Normalization step\n",
    "scaler = StandardScaler()\n",
    "scaler.fit(X_train)\n",
    "X_train_normalized = scaler.transform(X_train)\n",
    "X_test_normalized = scaler.transform(X_test)\n",
    "\n",
    "# 3. bias step\n",
    "ones_col_Xtrain = np.ones((X_train_normalized.shape[0], 1))\n",
    "ones_col_Xtest = np.ones((X_test_normalized.shape[0], 1))\n",
    "\n",
    "Xtrain_house_bias = np.hstack([ones_col_Xtrain, X_train_normalized])\n",
    "Xtest_house_bias = np.hstack([ones_col_Xtest, X_test_normalized])\n",
    "\n",
    "# 4. Normal Eqn step\n",
    "Xtrain_T = Xtrain_house_bias.T\n",
    "Xtrain_dot = np.dot(Xtrain_T, Xtrain_house_bias)\n",
    "Xtrain_inv = np.linalg.inv(Xtrain_dot)\n",
    "Xtrain_y_dot = np.dot(Xtrain_T, y_train)\n",
    "theta_1 = np.dot(Xtrain_inv, Xtrain_y_dot)\n",
    "\n",
    "# 5. Prediction step\n",
    "train_house_pred = np.dot(Xtrain_house_bias, theta_1)\n",
    "test_house_pred = np.dot(Xtest_house_bias, theta_1)\n",
    "\n",
    "# 6. MSE for linear reg with normal equations\n",
    "train_mse_1 = np.mean((train_house_pred-y_train)**2)\n",
    "test_mse_1 = np.mean((test_house_pred-y_test)**2)\n",
    "\n",
    "print(f\"TRAIN-MSE-1 Housing data with Linear Reg: {train_mse_1}\")\n",
    "print(f\"TEST-MSE-1 Housing data with Linear Reg: {test_mse_1}\")"
   ],
   "id": "d13cf7e86c65b1bc",
   "outputs": [
    {
     "name": "stdout",
     "output_type": "stream",
     "text": [
      "TRAIN-MSE-1 Housing data with Linear Reg: 22.081273187013167\n",
      "TEST-MSE-1 Housing data with Linear Reg: 22.638256296587716\n"
     ]
    }
   ],
   "execution_count": 15
  },
  {
   "metadata": {},
   "cell_type": "markdown",
   "source": [
    "Q1 B - Housing dataset with Linear Ridge Reg ->\n",
    "$ \\theta = (X^TX + \\lambda I) X^T Y $"
   ],
   "id": "96b02f7b39733cf0"
  },
  {
   "metadata": {
    "ExecuteTime": {
     "end_time": "2025-09-19T17:49:58.271746Z",
     "start_time": "2025-09-19T17:49:58.264839Z"
    }
   },
   "cell_type": "code",
   "source": [
    "lambdas = np.arange(0, 2.1, 0.1)\n",
    "test_mses = []\n",
    "train_mses = []\n",
    "# using normalized and bias data from Q1 A part\n",
    "\n",
    "for lambda_ridge in lambdas:\n",
    "    I = np.eye(Xtrain_house_bias.shape[1])\n",
    "    I[0,0] = 0\n",
    "\n",
    "    # ridge regression by normal equation\n",
    "    Xtrain_T = Xtrain_house_bias.T\n",
    "    Xtrain_dot_ridge = np.dot(Xtrain_T, Xtrain_house_bias) + lambda_ridge*I\n",
    "    Xtrain_inv_ridge = np.linalg.inv(Xtrain_dot_ridge)\n",
    "    Xtrain_y_dot = np.dot(Xtrain_T, y_train)\n",
    "    theta_2 = np.dot(Xtrain_inv_ridge, Xtrain_y_dot)\n",
    "\n",
    "    # predictions step\n",
    "    train_house_pred_ridge = np.dot(Xtrain_house_bias, theta_2)\n",
    "    test_house_pred_ridge = np.dot(Xtest_house_bias, theta_2)\n",
    "\n",
    "    # MSE for housing data with linear ridge regression\n",
    "    train_mse_2 = np.mean((train_house_pred_ridge-y_train)**2)\n",
    "    test_mse_2 = np.mean((test_house_pred_ridge-y_test)**2)\n",
    "\n",
    "    train_mses.append(train_mse_2)\n",
    "    test_mses.append(test_mse_2)\n",
    "\n",
    "    print(f\"Lambda: {lambda_ridge:.1f} | Train MSE: {train_mse_2:.4f} | Test MSE: {test_mse_2:.4f}\")\n",
    "\n",
    "# best lambda based on test MSE\n",
    "best_idx = np.argmin(test_mses)\n",
    "best_lambda = lambdas[best_idx]\n",
    "best_train_mse = train_mses[best_idx]\n",
    "best_test_mse = test_mses[best_idx]\n",
    "\n",
    "print(\"\\n\" + \"=\"*60)\n",
    "print(f\"BEST Lambda: {best_lambda:.1f}\")\n",
    "print(f\"Best Train MSE: {best_train_mse:.6f}\")\n",
    "print(f\"Best Test MSE: {best_test_mse:.6f}\")"
   ],
   "id": "3f439b0a55100397",
   "outputs": [
    {
     "name": "stdout",
     "output_type": "stream",
     "text": [
      "Lambda: 0.0 | Train MSE: 22.0813 | Test MSE: 22.6383\n",
      "Lambda: 0.1 | Train MSE: 22.0813 | Test MSE: 22.6181\n",
      "Lambda: 0.2 | Train MSE: 22.0814 | Test MSE: 22.5981\n",
      "Lambda: 0.3 | Train MSE: 22.0815 | Test MSE: 22.5783\n",
      "Lambda: 0.4 | Train MSE: 22.0816 | Test MSE: 22.5587\n",
      "Lambda: 0.5 | Train MSE: 22.0818 | Test MSE: 22.5393\n",
      "Lambda: 0.6 | Train MSE: 22.0821 | Test MSE: 22.5200\n",
      "Lambda: 0.7 | Train MSE: 22.0823 | Test MSE: 22.5009\n",
      "Lambda: 0.8 | Train MSE: 22.0827 | Test MSE: 22.4820\n",
      "Lambda: 0.9 | Train MSE: 22.0830 | Test MSE: 22.4632\n",
      "Lambda: 1.0 | Train MSE: 22.0834 | Test MSE: 22.4446\n",
      "Lambda: 1.1 | Train MSE: 22.0838 | Test MSE: 22.4261\n",
      "Lambda: 1.2 | Train MSE: 22.0843 | Test MSE: 22.4078\n",
      "Lambda: 1.3 | Train MSE: 22.0848 | Test MSE: 22.3896\n",
      "Lambda: 1.4 | Train MSE: 22.0853 | Test MSE: 22.3716\n",
      "Lambda: 1.5 | Train MSE: 22.0859 | Test MSE: 22.3537\n",
      "Lambda: 1.6 | Train MSE: 22.0865 | Test MSE: 22.3360\n",
      "Lambda: 1.7 | Train MSE: 22.0871 | Test MSE: 22.3184\n",
      "Lambda: 1.8 | Train MSE: 22.0878 | Test MSE: 22.3009\n",
      "Lambda: 1.9 | Train MSE: 22.0885 | Test MSE: 22.2836\n",
      "Lambda: 2.0 | Train MSE: 22.0892 | Test MSE: 22.2664\n",
      "\n",
      "============================================================\n",
      "BEST Lambda: 2.0\n",
      "Best Train MSE: 22.089225\n",
      "Best Test MSE: 22.266437\n"
     ]
    }
   ],
   "execution_count": 23
  },
  {
   "metadata": {},
   "cell_type": "markdown",
   "source": "Q1 C - Housing dataset with Linear Reg (Gradient Descent)",
   "id": "32ee584dce246064"
  },
  {
   "metadata": {},
   "cell_type": "code",
   "outputs": [],
   "execution_count": null,
   "source": "",
   "id": "6d37fa010a9893f6"
  },
  {
   "metadata": {},
   "cell_type": "markdown",
   "source": "Q1 D - Housing dataset with Logistic Reg (Gradient Descent)",
   "id": "f4c57d99285c68e4"
  },
  {
   "metadata": {},
   "cell_type": "code",
   "outputs": [],
   "execution_count": null,
   "source": "",
   "id": "153280d5f09dd560"
  }
 ],
 "metadata": {
  "kernelspec": {
   "display_name": "Python 3",
   "language": "python",
   "name": "python3"
  },
  "language_info": {
   "codemirror_mode": {
    "name": "ipython",
    "version": 2
   },
   "file_extension": ".py",
   "mimetype": "text/x-python",
   "name": "python",
   "nbconvert_exporter": "python",
   "pygments_lexer": "ipython2",
   "version": "2.7.6"
  }
 },
 "nbformat": 4,
 "nbformat_minor": 5
}
