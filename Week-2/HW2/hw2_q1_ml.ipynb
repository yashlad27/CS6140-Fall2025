{
 "cells": [
  {
   "cell_type": "markdown",
   "id": "4bb93ec22b123498",
   "metadata": {},
   "source": [
    "## HW2"
   ]
  },
  {
   "cell_type": "code",
   "id": "initial_id",
   "metadata": {
    "collapsed": true,
    "ExecuteTime": {
     "end_time": "2025-09-20T23:44:00.398622Z",
     "start_time": "2025-09-20T23:44:00.378020Z"
    }
   },
   "source": [
    "import numpy as np\n",
    "import matplotlib.pyplot as plt\n",
    "from sklearn.preprocessing import StandardScaler\n",
    "from sklearn.model_selection import train_test_split\n",
    "\n",
    "# housing dataset:\n",
    "train_house = np.loadtxt(\"housing_data/train.txt\")\n",
    "test_house = np.loadtxt(\"housing_data/test.txt\")\n",
    "\n",
    "# spambase dataset:\n",
    "spambase_data = np.loadtxt(\"spambase/spambase.data\", delimiter=\",\")"
   ],
   "outputs": [],
   "execution_count": 83
  },
  {
   "cell_type": "markdown",
   "id": "9e1c22d47f3967b4",
   "metadata": {},
   "source": [
    "Q1 A - Housing dataset with Linear Reg (normal eqns)"
   ]
  },
  {
   "cell_type": "code",
   "id": "d13cf7e86c65b1bc",
   "metadata": {
    "ExecuteTime": {
     "end_time": "2025-09-20T23:44:00.409309Z",
     "start_time": "2025-09-20T23:44:00.404196Z"
    }
   },
   "source": [
    "# 1. separate features and labels\n",
    "X_train = train_house[:, :-1]\n",
    "y_train = train_house[:, -1]\n",
    "X_test = test_house[:, :-1]\n",
    "y_test = test_house[:, -1]\n",
    "\n",
    "# 2. Normalization step\n",
    "scaler = StandardScaler()\n",
    "scaler.fit(X_train)\n",
    "X_train_normalized = scaler.transform(X_train)\n",
    "X_test_normalized = scaler.transform(X_test)\n",
    "\n",
    "# 3. bias step\n",
    "ones_col_Xtrain = np.ones((X_train_normalized.shape[0], 1))\n",
    "ones_col_Xtest = np.ones((X_test_normalized.shape[0], 1))\n",
    "\n",
    "Xtrain_house_bias = np.hstack([ones_col_Xtrain, X_train_normalized])\n",
    "Xtest_house_bias = np.hstack([ones_col_Xtest, X_test_normalized])\n",
    "\n",
    "# 4. Normal Eqn step\n",
    "Xtrain_T = Xtrain_house_bias.T\n",
    "Xtrain_dot = np.dot(Xtrain_T, Xtrain_house_bias)\n",
    "Xtrain_inv = np.linalg.inv(Xtrain_dot)\n",
    "Xtrain_y_dot = np.dot(Xtrain_T, y_train)\n",
    "theta_1 = np.dot(Xtrain_inv, Xtrain_y_dot)\n",
    "\n",
    "# 5. Prediction step\n",
    "train_house_pred = np.dot(Xtrain_house_bias, theta_1)\n",
    "test_house_pred = np.dot(Xtest_house_bias, theta_1)\n",
    "\n",
    "# 6. MSE for linear reg with normal equations\n",
    "train_mse_1 = np.mean((train_house_pred-y_train)**2)\n",
    "test_mse_1 = np.mean((test_house_pred-y_test)**2)\n",
    "\n",
    "print(f\"TRAIN-MSE-1 Housing data with Linear Reg: {train_mse_1}\")\n",
    "print(f\"TEST-MSE-1 Housing data with Linear Reg: {test_mse_1}\")"
   ],
   "outputs": [
    {
     "name": "stdout",
     "output_type": "stream",
     "text": [
      "TRAIN-MSE-1 Housing data with Linear Reg: 22.081273187013167\n",
      "TEST-MSE-1 Housing data with Linear Reg: 22.638256296587716\n"
     ]
    }
   ],
   "execution_count": 84
  },
  {
   "cell_type": "markdown",
   "id": "96b02f7b39733cf0",
   "metadata": {},
   "source": [
    "Q1 B - Housing dataset with Linear Ridge Reg ->\n",
    "$ \\theta = (X^TX + \\lambda I) X^T Y $"
   ]
  },
  {
   "cell_type": "code",
   "id": "3f439b0a55100397",
   "metadata": {
    "ExecuteTime": {
     "end_time": "2025-09-20T23:44:00.418352Z",
     "start_time": "2025-09-20T23:44:00.413607Z"
    }
   },
   "source": [
    "lambdas = np.arange(0, 2.1, 0.1)\n",
    "test_mses = []\n",
    "train_mses = []\n",
    "# using normalized and bias data from Q1 A part\n",
    "\n",
    "for lambda_ridge in lambdas:\n",
    "    I = np.eye(Xtrain_house_bias.shape[1])\n",
    "    I[0,0] = 0\n",
    "\n",
    "    # ridge regression by normal equation\n",
    "    Xtrain_T = Xtrain_house_bias.T\n",
    "    Xtrain_dot_ridge = np.dot(Xtrain_T, Xtrain_house_bias) + lambda_ridge*I\n",
    "    Xtrain_inv_ridge = np.linalg.inv(Xtrain_dot_ridge)\n",
    "    Xtrain_y_dot = np.dot(Xtrain_T, y_train)\n",
    "    theta_2 = np.dot(Xtrain_inv_ridge, Xtrain_y_dot)\n",
    "\n",
    "    # predictions step\n",
    "    train_house_pred_ridge = np.dot(Xtrain_house_bias, theta_2)\n",
    "    test_house_pred_ridge = np.dot(Xtest_house_bias, theta_2)\n",
    "\n",
    "    # MSE for housing data with linear ridge regression\n",
    "    train_mse_2 = np.mean((train_house_pred_ridge-y_train)**2)\n",
    "    test_mse_2 = np.mean((test_house_pred_ridge-y_test)**2)\n",
    "\n",
    "    train_mses.append(train_mse_2)\n",
    "    test_mses.append(test_mse_2)\n",
    "\n",
    "    print(f\"Lambda: {lambda_ridge:.1f} | Train MSE-2: {train_mse_2:.4f} | Test MSE-2: {test_mse_2:.4f}\")\n",
    "\n",
    "# best lambda based on test MSE\n",
    "best_idx = np.argmin(test_mses)\n",
    "best_lambda = lambdas[best_idx]\n",
    "best_train_mse = train_mses[best_idx]\n",
    "best_test_mse = test_mses[best_idx]\n",
    "\n",
    "print(\"\\n\" + \"=\"*60)\n",
    "print(f\"BEST Lambda: {best_lambda:.1f}\")\n",
    "print(f\"Best Train MSE: {best_train_mse:.6f}\")\n",
    "print(f\"Best Test MSE: {best_test_mse:.6f}\")"
   ],
   "outputs": [
    {
     "name": "stdout",
     "output_type": "stream",
     "text": [
      "Lambda: 0.0 | Train MSE-2: 22.0813 | Test MSE-2: 22.6383\n",
      "Lambda: 0.1 | Train MSE-2: 22.0813 | Test MSE-2: 22.6181\n",
      "Lambda: 0.2 | Train MSE-2: 22.0814 | Test MSE-2: 22.5981\n",
      "Lambda: 0.3 | Train MSE-2: 22.0815 | Test MSE-2: 22.5783\n",
      "Lambda: 0.4 | Train MSE-2: 22.0816 | Test MSE-2: 22.5587\n",
      "Lambda: 0.5 | Train MSE-2: 22.0818 | Test MSE-2: 22.5393\n",
      "Lambda: 0.6 | Train MSE-2: 22.0821 | Test MSE-2: 22.5200\n",
      "Lambda: 0.7 | Train MSE-2: 22.0823 | Test MSE-2: 22.5009\n",
      "Lambda: 0.8 | Train MSE-2: 22.0827 | Test MSE-2: 22.4820\n",
      "Lambda: 0.9 | Train MSE-2: 22.0830 | Test MSE-2: 22.4632\n",
      "Lambda: 1.0 | Train MSE-2: 22.0834 | Test MSE-2: 22.4446\n",
      "Lambda: 1.1 | Train MSE-2: 22.0838 | Test MSE-2: 22.4261\n",
      "Lambda: 1.2 | Train MSE-2: 22.0843 | Test MSE-2: 22.4078\n",
      "Lambda: 1.3 | Train MSE-2: 22.0848 | Test MSE-2: 22.3896\n",
      "Lambda: 1.4 | Train MSE-2: 22.0853 | Test MSE-2: 22.3716\n",
      "Lambda: 1.5 | Train MSE-2: 22.0859 | Test MSE-2: 22.3537\n",
      "Lambda: 1.6 | Train MSE-2: 22.0865 | Test MSE-2: 22.3360\n",
      "Lambda: 1.7 | Train MSE-2: 22.0871 | Test MSE-2: 22.3184\n",
      "Lambda: 1.8 | Train MSE-2: 22.0878 | Test MSE-2: 22.3009\n",
      "Lambda: 1.9 | Train MSE-2: 22.0885 | Test MSE-2: 22.2836\n",
      "Lambda: 2.0 | Train MSE-2: 22.0892 | Test MSE-2: 22.2664\n",
      "\n",
      "============================================================\n",
      "BEST Lambda: 2.0\n",
      "Best Train MSE: 22.089225\n",
      "Best Test MSE: 22.266437\n"
     ]
    }
   ],
   "execution_count": 85
  },
  {
   "cell_type": "markdown",
   "id": "32ee584dce246064",
   "metadata": {},
   "source": [
    "Q1 C - Housing dataset with Linear Reg (Gradient Descent)"
   ]
  },
  {
   "cell_type": "code",
   "id": "6d37fa010a9893f6",
   "metadata": {
    "ExecuteTime": {
     "end_time": "2025-09-20T23:44:00.424787Z",
     "start_time": "2025-09-20T23:44:00.422711Z"
    }
   },
   "source": [
    "def gradient_descent_lin_reg(X, y, lr=0.1, epochs=1000):\n",
    "    n,d = X.shape\n",
    "    w = np.zeros(d)\n",
    "\n",
    "    loss_history = []\n",
    "\n",
    "    for epoch in range(epochs):\n",
    "        predictions = X @ w\n",
    "        error = predictions - y\n",
    "\n",
    "        gradient = (1/n) * X.T @ error\n",
    "\n",
    "        w = w-lr*gradient\n",
    "\n",
    "        loss = np.mean(error**2)\n",
    "        loss_history.append(loss)\n",
    "\n",
    "        if epoch%100==0:\n",
    "            print(f\"Epoch {epoch}, MSE: {loss:.4f}\")\n",
    "\n",
    "    return w, loss_history"
   ],
   "outputs": [],
   "execution_count": 86
  },
  {
   "metadata": {
    "ExecuteTime": {
     "end_time": "2025-09-20T23:44:00.468506Z",
     "start_time": "2025-09-20T23:44:00.430161Z"
    }
   },
   "cell_type": "code",
   "source": [
    "print(\"Train Linear Regression with Gradient Descent:\")\n",
    "w_gd, losses = gradient_descent_lin_reg(Xtrain_house_bias, y_train, lr=0.1, epochs=1000)\n",
    "\n",
    "# predictions step:\n",
    "train_pred_gd = Xtrain_house_bias @ w_gd\n",
    "test_pred_gd = Xtest_house_bias @ w_gd\n",
    "\n",
    "# MSE Calculation:\n",
    "train_mse_3 = np.mean((train_pred_gd-y_train) ** 2)\n",
    "test_mse_3 = np.mean((test_pred_gd-y_test) ** 2)\n",
    "\n",
    "print(f\"\\n Final Train MSE: {train_mse_3:.6f}\")\n",
    "print(f\"\\n Final Test MSE: {test_mse_3:.6f}\")\n",
    "\n",
    "# Convergence Plot:\n",
    "plt.plot(losses)\n",
    "plt.xlabel('Epoch')\n",
    "plt.ylabel('MSE')\n",
    "plt.title('Gradient Descent Convergence')\n",
    "plt.show()"
   ],
   "id": "89965d2ea8a8a04e",
   "outputs": [
    {
     "name": "stdout",
     "output_type": "stream",
     "text": [
      "Train Linear Regression with Gradient Descent:\n",
      "Epoch 0, MSE: 612.9033\n",
      "Epoch 100, MSE: 22.4535\n",
      "Epoch 200, MSE: 22.1887\n",
      "Epoch 300, MSE: 22.1192\n",
      "Epoch 400, MSE: 22.0951\n",
      "Epoch 500, MSE: 22.0863\n",
      "Epoch 600, MSE: 22.0831\n",
      "Epoch 700, MSE: 22.0819\n",
      "Epoch 800, MSE: 22.0815\n",
      "Epoch 900, MSE: 22.0814\n",
      "\n",
      " Final Train MSE: 22.081306\n",
      "\n",
      " Final Test MSE: 22.623622\n"
     ]
    },
    {
     "data": {
      "text/plain": [
       "<Figure size 640x480 with 1 Axes>"
      ],
      "image/png": "[encoded data removed]"
     },
     "metadata": {},
     "output_type": "display_data",
     "jetTransient": {
      "display_id": null
     }
    }
   ],
   "execution_count": 87
  },
  {
   "metadata": {
    "ExecuteTime": {
     "end_time": "2025-09-20T23:44:00.511244Z",
     "start_time": "2025-09-20T23:44:00.475874Z"
    }
   },
   "cell_type": "code",
   "source": [
    "plt.figure(figsize=(8, 5))\n",
    "plt.plot(losses[10:])\n",
    "plt.xlabel('Epoch (starting from 10)')\n",
    "plt.ylabel('MSE')\n",
    "plt.title('GD Convergence (after initial drop)')\n",
    "plt.ylim(22.08, 22.5)\n",
    "plt.grid(True, alpha=0.3)\n",
    "plt.show()"
   ],
   "id": "d1d22e9e88b11536",
   "outputs": [
    {
     "data": {
      "text/plain": [
       "<Figure size 800x500 with 1 Axes>"
      ],
      "image/png": "[encoded data removed]"
     },
     "metadata": {},
     "output_type": "display_data",
     "jetTransient": {
      "display_id": null
     }
    }
   ],
   "execution_count": 88
  },
  {
   "cell_type": "markdown",
   "id": "f4c57d99285c68e4",
   "metadata": {},
   "source": "Q1 D - Housing dataset with Logistic Reg (Gradient Descent) this won't work as for housing problem we need to predict continuous values ( house prices like 250k ,321k etc). But logistic regression gives us probabilities between 0 and 1 via the sigmoid function. It helps us predict discrete classes (spam/ not spam, pass/fail) not continuous values and is inappropriate for unbounded continuous values like house prices."
  },
  {
   "metadata": {},
   "cell_type": "markdown",
   "source": "Q1 E - Spambase dataset with Linear Regression (Normal Equations)",
   "id": "51f239c7b4f4b76d"
  },
  {
   "cell_type": "code",
   "id": "153280d5f09dd560",
   "metadata": {
    "ExecuteTime": {
     "end_time": "2025-09-20T23:44:00.519925Z",
     "start_time": "2025-09-20T23:44:00.514906Z"
    }
   },
   "source": [
    "X = spambase_data[:, :-1]\n",
    "y = spambase_data[:, -1]\n",
    "\n",
    "# train-test split\n",
    "X_train, X_test, y_train, y_test = train_test_split(X, y, test_size=0.2, random_state=42)\n",
    "\n",
    "# normalization step:\n",
    "scalar_spam = StandardScaler()\n",
    "scalar_spam.fit(X_train)\n",
    "X_train_normalized = scalar_spam.transform(X_train)\n",
    "X_test_normalized = scalar_spam.transform(X_test)\n",
    "\n",
    "# add bias term:\n",
    "ones_col_Xtrain = np.ones((X_train_normalized.shape[0], 1))\n",
    "ones_col_Xtest = np.ones((X_test_normalized.shape[0], 1))\n",
    "spam_Xtrain_bias = np.hstack([ones_col_Xtrain, X_train_normalized])\n",
    "spam_Xtest_bias = np.hstack([ones_col_Xtest, X_test_normalized])\n",
    "\n",
    "# Normal Equation step:\n",
    "spamXtrain_T = spam_Xtrain_bias.T\n",
    "spamXtrain_dot = spamXtrain_T @ spam_Xtrain_bias\n",
    "spamXtrain_inverse = np.linalg.inv(spamXtrain_dot)\n",
    "spamX_y_dot = spamXtrain_T @ y_train\n",
    "w_spam_linear = spamXtrain_inverse @ spamX_y_dot\n",
    "\n",
    "# predictions:\n",
    "train_continuous_pred = spam_Xtrain_bias @ w_spam_linear\n",
    "test_continuous_pred = spam_Xtest_bias @ w_spam_linear"
   ],
   "outputs": [],
   "execution_count": 89
  },
  {
   "metadata": {
    "ExecuteTime": {
     "end_time": "2025-09-20T23:44:00.525793Z",
     "start_time": "2025-09-20T23:44:00.523550Z"
    }
   },
   "cell_type": "code",
   "source": [
    "# Binary classification with threshold:\n",
    "threshold = 0.42\n",
    "train_binary_pred = (train_continuous_pred>threshold).astype(int)\n",
    "test_binary_pred = (test_continuous_pred>threshold).astype(int)\n",
    "\n",
    "# Accuracy:\n",
    "train_acc_linear = np.mean(train_binary_pred == y_train)\n",
    "test_acc_linear = np.mean(test_binary_pred == y_test)\n",
    "\n",
    "print(f\"\\nLinear Regression on Spambase:\")\n",
    "print(f\"Train Accuracy: {train_acc_linear:.4f}\")\n",
    "print(f\"Test Accuracy: {test_acc_linear:.4f}\")"
   ],
   "id": "88e73abd1cb0c659",
   "outputs": [
    {
     "name": "stdout",
     "output_type": "stream",
     "text": [
      "\n",
      "Linear Regression on Spambase:\n",
      "Train Accuracy: 0.9111\n",
      "Test Accuracy: 0.9110\n"
     ]
    }
   ],
   "execution_count": 90
  },
  {
   "metadata": {
    "ExecuteTime": {
     "end_time": "2025-09-20T23:44:14.002006Z",
     "start_time": "2025-09-20T23:44:13.999823Z"
    }
   },
   "cell_type": "code",
   "source": [
    "# Confusion Matrix\n",
    "def confusion_matrix(y_true, y_pred):\n",
    "    TP = np.sum((y_true == 1) & (y_pred == 1))\n",
    "    TN = np.sum((y_true == 0) & (y_pred == 0))\n",
    "    FP = np.sum((y_true == 0) & (y_pred == 1))\n",
    "    FN = np.sum((y_true == 1) & (y_pred == 0))\n",
    "    return np.array([[TN, FP], [FN, TP]])\n",
    "\n",
    "cm_linear = confusion_matrix(y_test, test_binary_pred)\n",
    "print(f\"\\nConfusion Matrix (Linear Regression):\")\n",
    "print(f\"[[TN={cm_linear[0,0]} FP={cm_linear[0,1]}]\")\n",
    "print(f\" [FN={cm_linear[1,0]} TP={cm_linear[1,1]}]]\")"
   ],
   "id": "64a42467695dc563",
   "outputs": [
    {
     "name": "stdout",
     "output_type": "stream",
     "text": [
      "\n",
      "Confusion Matrix (Linear Regression):\n",
      "[[TN=492 FP=39]\n",
      " [FN=43 TP=347]]\n"
     ]
    }
   ],
   "execution_count": 91
  },
  {
   "metadata": {},
   "cell_type": "markdown",
   "source": "Q1 F - Spambase dataset with Linear Ridge Regression",
   "id": "f4cc644499300d6"
  },
  {
   "metadata": {
    "ExecuteTime": {
     "end_time": "2025-09-21T00:08:33.418639Z",
     "start_time": "2025-09-21T00:08:33.405069Z"
    }
   },
   "cell_type": "code",
   "source": [
    "# Using the above normalized and biased data as in Q1 E\n",
    "\n",
    "# RIDGE REGRESSION with Regularization:\n",
    "lambda_ridge = 0.1\n",
    "threshold = 0.42\n",
    "\n",
    "I = np.eye(spam_Xtrain_bias.shape[1])\n",
    "I[0,0] = 0\n",
    "\n",
    "# normal equation step:\n",
    "spamXtrain_T = spam_Xtrain_bias.T\n",
    "spamXtrain_dot_ridge = spamXtrain_T @ spam_Xtrain_bias + lambda_ridge * I\n",
    "spamXtrain_inverse_ridge = np.linalg.inv(spamXtrain_dot_ridge)\n",
    "spamX_y_dot = spamXtrain_T @ y_train\n",
    "w_spam_ridge = spamXtrain_inverse_ridge @ spamX_y_dot\n",
    "\n",
    "# prediction calculations:\n",
    "train_conti_ridge = spam_Xtrain_bias @ w_spam_ridge\n",
    "test_conti_ridge = spam_Xtest_bias @ w_spam_ridge\n",
    "\n",
    "# binary classification:\n",
    "train_binary_ridge = (train_conti_ridge > threshold).astype(int)\n",
    "test_binary_ridge = (test_conti_ridge > threshold).astype(int)\n",
    "\n",
    "# accuracy:\n",
    "train_acc_ridge = np.mean(train_binary_ridge==y_train)\n",
    "test_acc_ridge = np.mean(test_binary_ridge==y_test)\n",
    "\n",
    "print(f\"\\nLinear Ridge Regression on Spambase (λ={lambda_ridge}):\")\n",
    "print(f\"Train Accuracy: {train_acc_ridge:.4f}\")\n",
    "print(f\"Test Accuracy: {test_acc_ridge:.4f}\")"
   ],
   "id": "1667bb26c93c52ae",
   "outputs": [
    {
     "name": "stdout",
     "output_type": "stream",
     "text": [
      "\n",
      "Linear Ridge Regression on Spambase (λ=0.1):\n",
      "Train Accuracy: 0.9111\n",
      "Test Accuracy: 0.9110\n"
     ]
    }
   ],
   "execution_count": 92
  },
  {
   "metadata": {
    "ExecuteTime": {
     "end_time": "2025-09-21T00:08:58.052081Z",
     "start_time": "2025-09-21T00:08:58.047274Z"
    }
   },
   "cell_type": "code",
   "source": [
    "# Optional: Test different lambda values\n",
    "print(\"\\nTesting different lambda values:\")\n",
    "lambdas = [0.01, 0.1, 0.5, 1.0, 5.0, 10.0]\n",
    "for lam in lambdas:\n",
    "    I = np.eye(spam_Xtrain_bias.shape[1])\n",
    "    I[0, 0] = 0\n",
    "\n",
    "    Xtrain_dot_ridge = np.dot(spamXtrain_T, spam_Xtrain_bias) + lam * I\n",
    "    Xtrain_inv_ridge = np.linalg.inv(Xtrain_dot_ridge)\n",
    "    w_ridge = np.dot(Xtrain_inv_ridge, spamX_y_dot)\n",
    "\n",
    "    test_pred = np.dot(spam_Xtest_bias, w_ridge)\n",
    "    test_binary = (test_pred > threshold).astype(int)\n",
    "    test_acc = np.mean(test_binary == y_test)\n",
    "\n",
    "    print(f\"λ={lam:5.2f}: Test Accuracy = {test_acc:.4f}\")"
   ],
   "id": "5866207d1c0c6509",
   "outputs": [
    {
     "name": "stdout",
     "output_type": "stream",
     "text": [
      "\n",
      "Testing different lambda values:\n",
      "λ= 0.01: Test Accuracy = 0.9110\n",
      "λ= 0.10: Test Accuracy = 0.9110\n",
      "λ= 0.50: Test Accuracy = 0.9110\n",
      "λ= 1.00: Test Accuracy = 0.9110\n",
      "λ= 5.00: Test Accuracy = 0.9110\n",
      "λ=10.00: Test Accuracy = 0.9121\n"
     ]
    }
   ],
   "execution_count": 93
  },
  {
   "metadata": {},
   "cell_type": "markdown",
   "source": "Q1 G - Spambase dataset with Linear Regression using Gradient Descent",
   "id": "71cb51e29c68e5f"
  },
  {
   "metadata": {
    "ExecuteTime": {
     "end_time": "2025-09-20T23:44:00.543632Z",
     "start_time": "2025-09-20T23:44:00.542357Z"
    }
   },
   "cell_type": "code",
   "source": "",
   "id": "37f6f33ee4c90825",
   "outputs": [],
   "execution_count": null
  },
  {
   "metadata": {},
   "cell_type": "markdown",
   "source": "Q1 H - Spambase dataset with Logistic Regression using Gradient descent",
   "id": "ad45a6e06d48ad3d"
  },
  {
   "metadata": {
    "ExecuteTime": {
     "end_time": "2025-09-20T23:44:00.546624Z",
     "start_time": "2025-09-20T23:44:00.545586Z"
    }
   },
   "cell_type": "code",
   "source": "",
   "id": "a9a3ceec5d28d4ac",
   "outputs": [],
   "execution_count": null
  }
 ],
 "metadata": {
  "kernelspec": {
   "display_name": "Python 3",
   "language": "python",
   "name": "python3"
  },
  "language_info": {
   "codemirror_mode": {
    "name": "ipython",
    "version": 2
   },
   "file_extension": ".py",
   "mimetype": "text/x-python",
   "name": "python",
   "nbconvert_exporter": "python",
   "pygments_lexer": "ipython2",
   "version": "3.13.2"
  }
 },
 "nbformat": 4,
 "nbformat_minor": 5
}
