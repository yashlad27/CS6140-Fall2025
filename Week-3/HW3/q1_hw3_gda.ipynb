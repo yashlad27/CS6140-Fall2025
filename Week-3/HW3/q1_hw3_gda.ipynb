{
 "cells": [
  {
   "cell_type": "markdown",
   "id": "6b75c5d061da6179",
   "metadata": {},
   "source": [
    "# HW-3\n",
    "### Q1 GDA"
   ]
  },
  {
   "cell_type": "code",
   "id": "e489ba37fcdebbe",
   "metadata": {
    "ExecuteTime": {
     "end_time": "2025-10-09T15:43:31.946627Z",
     "start_time": "2025-10-09T15:43:30.319390Z"
    }
   },
   "source": [
    "import numpy as np\n",
    "from scipy.stats import false_discovery_control\n",
    "from sklearn.model_selection import KFold\n",
    "from sklearn.preprocessing import StandardScaler\n",
    "from sklearn.metrics import accuracy_score"
   ],
   "outputs": [],
   "execution_count": 1
  },
  {
   "metadata": {
    "ExecuteTime": {
     "end_time": "2025-10-09T15:44:20.531625Z",
     "start_time": "2025-10-09T15:44:20.517965Z"
    }
   },
   "cell_type": "code",
   "source": [
    "data = np.loadtxt(\"spambase/spambase.data\", delimiter=\",\")\n",
    "X = data[:, :-1]\n",
    "y = data[:, -1].astype(int)\n",
    "\n",
    "scaler = StandardScaler()\n",
    "X_norm = scaler.fit_transform(X)"
   ],
   "id": "64dce148c9b38692",
   "outputs": [],
   "execution_count": 2
  },
  {
   "metadata": {},
   "cell_type": "code",
   "outputs": [],
   "execution_count": null,
   "source": [
    "class GDA:\n",
    "    def __init__(self, shared_covariance = False):\n",
    "        self.shared_covariance = shared_covariance\n",
    "        self.priors = {}\n",
    "        self.means = {}\n",
    "        self.covariances = {}\n",
    "        self.shared_cov = None\n",
    "\n",
    "    def fit(self, X, y):\n",
    "        self.classes = np.unique(y)\n",
    "        n_samples = X.shape[0]\n",
    "        n_features = X.shape[1]\n",
    "\n",
    "        for c in self.classes:\n",
    "            X_c = X[y==c]\n",
    "\n",
    "            # prior:\n",
    "            self.priors[c] = len(X_c) / n_samples\n",
    "\n",
    "            # mean vector:\n",
    "            self.means[c] = np.mean(X_c, axis=0)\n",
    "\n",
    "            # cov for QDA\n",
    "            if not self.shared_covariance:\n",
    "                self.covariances[c] = np.cov(X_c.T, bias=False)\n",
    "\n",
    "                # reg param\n",
    "                self.covariances[c] += 1e-6 * np.eye(n_features)\n",
    "\n",
    "        # single shared cov for LDA:\n",
    "        if self.shared_covariance:\n",
    "            self.shared_cov = np.cov(X.T, bias=False)\n",
    "\n",
    "            # reg param:\n",
    "            self.shared_cov += 1e-6 * np.eye(n_features)\n",
    "\n",
    "    def predict(self, X):\n",
    "        \"\"\"predicting class for each instance using log prob\"\"\"\n",
    "\n",
    "        predictions = []\n",
    "\n",
    "        for x in X:\n",
    "            log_probs = {}\n",
    "\n",
    "            for c in self.classes:\n",
    "                if self.shared_covariance:\n",
    "                    cov = self.shared_cov\n",
    "                else:\n",
    "                    cov = self.covariances[c]\n",
    "\n",
    "                mean_c = self.means[c]\n",
    "                diff = x - mean_c\n",
    "\n",
    "\n",
    "\n"
   ],
   "id": "fa872c4f3f57a55e"
  }
 ],
 "metadata": {
  "kernelspec": {
   "display_name": "Python 3 (ipykernel)",
   "language": "python",
   "name": "python3"
  },
  "language_info": {
   "codemirror_mode": {
    "name": "ipython",
    "version": 3
   },
   "file_extension": ".py",
   "mimetype": "text/x-python",
   "name": "python",
   "nbconvert_exporter": "python",
   "pygments_lexer": "ipython3",
   "version": "3.13.5"
  }
 },
 "nbformat": 4,
 "nbformat_minor": 5
}
