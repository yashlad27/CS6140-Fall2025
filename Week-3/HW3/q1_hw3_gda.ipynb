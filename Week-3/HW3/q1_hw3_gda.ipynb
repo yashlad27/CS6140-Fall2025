{
 "cells": [
  {
   "cell_type": "markdown",
   "id": "6b75c5d061da6179",
   "metadata": {},
   "source": [
    "# HW-3\n",
    "### Q1 GDA"
   ]
  },
  {
   "cell_type": "code",
   "execution_count": null,
   "id": "e489ba37fcdebbe",
   "metadata": {
    "ExecuteTime": {
     "end_time": "2025-10-11T00:53:45.374854Z",
     "start_time": "2025-10-11T00:53:45.366762Z"
    }
   },
   "outputs": [],
   "source": [
    "import numpy as np\n",
    "from sklearn.model_selection import KFold\n",
    "from sklearn.preprocessing import StandardScaler\n",
    "from sklearn.metrics import accuracy_score"
   ]
  },
  {
   "cell_type": "code",
   "execution_count": 11,
   "id": "b98ad83a39321b5c",
   "metadata": {
    "ExecuteTime": {
     "end_time": "2025-10-11T00:53:45.617818Z",
     "start_time": "2025-10-11T00:53:45.612482Z"
    }
   },
   "outputs": [],
   "source": [
    "import warnings\n",
    "\n",
    "warnings.filterwarnings('ignore', message='divide by zero encountered in det')\n",
    "warnings.filterwarnings('ignore', message='overflow encountered in det')\n",
    "warnings.filterwarnings('ignore', message='invalid value encountered in det')\n",
    "warnings.filterwarnings('ignore', category=RuntimeWarning)"
   ]
  },
  {
   "cell_type": "code",
   "execution_count": 12,
   "id": "64dce148c9b38692",
   "metadata": {
    "ExecuteTime": {
     "end_time": "2025-10-11T00:53:45.943334Z",
     "start_time": "2025-10-11T00:53:45.916451Z"
    }
   },
   "outputs": [],
   "source": [
    "data = np.loadtxt(\"spambase/spambase.data\", delimiter=\",\")\n",
    "X = data[:, :-1]\n",
    "y = data[:, -1].astype(int)\n",
    "\n",
    "scaler = StandardScaler()\n",
    "X_norm = scaler.fit_transform(X)"
   ]
  },
  {
   "cell_type": "code",
   "execution_count": 13,
   "id": "fa872c4f3f57a55e",
   "metadata": {
    "ExecuteTime": {
     "end_time": "2025-10-11T00:53:46.292542Z",
     "start_time": "2025-10-11T00:53:46.285840Z"
    }
   },
   "outputs": [],
   "source": [
    "class GDA:\n",
    "    def __init__(self, shared_covariance = False):\n",
    "        self.shared_covariance = shared_covariance\n",
    "        self.priors = {}\n",
    "        self.means = {}\n",
    "        self.covariances = {}\n",
    "        self.shared_cov = None\n",
    "\n",
    "    def fit(self, X, y):\n",
    "        self.classes = np.unique(y)\n",
    "        n_samples = X.shape[0]\n",
    "        n_features = X.shape[1]\n",
    "\n",
    "        for c in self.classes:\n",
    "            X_c = X[y==c]\n",
    "\n",
    "            # prior:\n",
    "            self.priors[c] = len(X_c) / n_samples\n",
    "\n",
    "            # mean vector:\n",
    "            self.means[c] = np.mean(X_c, axis=0)\n",
    "\n",
    "            # cov for QDA\n",
    "            if not self.shared_covariance:\n",
    "                self.covariances[c] = np.cov(X_c.T, bias=False)\n",
    "\n",
    "                # reg param\n",
    "                self.covariances[c] += 1e-6 * np.eye(n_features)\n",
    "\n",
    "        # single shared cov for LDA:\n",
    "        if self.shared_covariance:\n",
    "            self.shared_cov = np.cov(X.T, bias=False)\n",
    "\n",
    "            # reg param:\n",
    "            self.shared_cov += 1e-6 * np.eye(n_features)\n",
    "\n",
    "    def predict(self, X):\n",
    "        \"\"\"predicting class for each instance using log prob\"\"\"\n",
    "\n",
    "        predictions = []\n",
    "\n",
    "        for x in X:\n",
    "            log_probs = {}\n",
    "\n",
    "            for c in self.classes:\n",
    "                if self.shared_covariance:\n",
    "                    cov = self.shared_cov\n",
    "                else:\n",
    "                    cov = self.covariances[c]\n",
    "\n",
    "                mean_c = self.means[c]\n",
    "                diff = x - mean_c\n",
    "                sign, logdet = np.linalg.slogdet(cov)\n",
    "                \n",
    "                cov_inv = np.linalg.inv(cov)\n",
    "\n",
    "                # log P(x|y=c) = -0.5 * [d*log(2π) + log|Σ| + (x-μ)^T Σ^(-1) (x-μ)]\n",
    "                d = len(x)\n",
    "                LL = -0.5 * (d * np.log(2*np.pi) + logdet + diff @ cov_inv @ diff)\n",
    "\n",
    "                # log prior\n",
    "                log_prior = np.log(self.priors[c])\n",
    "\n",
    "                # log posterior\n",
    "                log_probs[c] = log_prior + LL\n",
    "\n",
    "            # predicting classes w/ max log prob\n",
    "            predictions.append(max(log_probs, key=log_probs.get))\n",
    "        return np.array(predictions)"
   ]
  },
  {
   "cell_type": "markdown",
   "id": "d6d299a323f34de8",
   "metadata": {},
   "source": [
    "k-fold cross validation:"
   ]
  },
  {
   "cell_type": "code",
   "execution_count": 14,
   "id": "3d813765f3894669",
   "metadata": {
    "ExecuteTime": {
     "end_time": "2025-10-11T00:53:58.022125Z",
     "start_time": "2025-10-11T00:53:47.189921Z"
    }
   },
   "outputs": [
    {
     "name": "stdout",
     "output_type": "stream",
     "text": [
      "Fold 1: LDA Test=0.8503, QDA Test=0.8395\n",
      "Fold 2: LDA Test=0.8696, QDA Test=0.8370\n",
      "Fold 3: LDA Test=0.8674, QDA Test=0.8478\n",
      "Fold 4: LDA Test=0.8674, QDA Test=0.8022\n",
      "Fold 5: LDA Test=0.8587, QDA Test=0.7978\n",
      "Fold 6: LDA Test=0.8652, QDA Test=0.8283\n",
      "Fold 7: LDA Test=0.8348, QDA Test=0.8478\n",
      "Fold 8: LDA Test=0.9022, QDA Test=0.8217\n",
      "Fold 9: LDA Test=0.8543, QDA Test=0.8478\n",
      "Fold 10: LDA Test=0.8696, QDA Test=0.8283\n"
     ]
    }
   ],
   "source": [
    "k_folds = 10\n",
    "kf = KFold(n_splits=k_folds, shuffle=True, random_state=42)\n",
    "\n",
    "lda_results = {'train_acc': [], 'test_acc': []}\n",
    "qda_results = {'train_acc': [], 'test_acc': []}\n",
    "\n",
    "for fold, (train_idx, test_idx) in enumerate(kf.split(X_norm), 1):\n",
    "    X_train, X_test = X_norm[train_idx], X_norm[test_idx]\n",
    "    y_train, y_test = y[train_idx], y[test_idx]\n",
    "\n",
    "    # Test LDA (shared covariance)\n",
    "    lda = GDA(shared_covariance=True)\n",
    "    lda.fit(X_train, y_train)\n",
    "\n",
    "    train_pred_lda = lda.predict(X_train)\n",
    "    test_pred_lda = lda.predict(X_test)\n",
    "\n",
    "    lda_train_acc = accuracy_score(y_train, train_pred_lda)\n",
    "    lda_test_acc = accuracy_score(y_test, test_pred_lda)\n",
    "\n",
    "    lda_results['train_acc'].append(lda_train_acc)\n",
    "    lda_results['test_acc'].append(lda_test_acc)\n",
    "\n",
    "    # Test QDA (class-specific covariances)\n",
    "    qda = GDA(shared_covariance=False)\n",
    "    qda.fit(X_train, y_train)\n",
    "\n",
    "    train_pred_qda = qda.predict(X_train)\n",
    "    test_pred_qda = qda.predict(X_test)\n",
    "\n",
    "    qda_train_acc = accuracy_score(y_train, train_pred_qda)\n",
    "    qda_test_acc = accuracy_score(y_test, test_pred_qda)\n",
    "\n",
    "    qda_results['train_acc'].append(qda_train_acc)\n",
    "    qda_results['test_acc'].append(qda_test_acc)\n",
    "\n",
    "    print(f\"Fold {fold}: LDA Test={lda_test_acc:.4f}, QDA Test={qda_test_acc:.4f}\")"
   ]
  },
  {
   "cell_type": "code",
   "execution_count": 15,
   "id": "eab800abf0cf30e6",
   "metadata": {
    "ExecuteTime": {
     "end_time": "2025-10-11T00:54:33.555355Z",
     "start_time": "2025-10-11T00:54:33.540989Z"
    }
   },
   "outputs": [
    {
     "name": "stdout",
     "output_type": "stream",
     "text": [
      "\n",
      "==================================================\n",
      "FINAL RESULTS (averaged across 10 folds):\n",
      "==================================================\n",
      "\n",
      "LDA (Single Shared Covariance):\n",
      "  Train Accuracy: 0.8650 ± 0.0017\n",
      "  Test Accuracy:  0.8639 ± 0.0164\n",
      "\n",
      "QDA (Class-Specific Covariances):\n",
      "  Train Accuracy: 0.8326 ± 0.0041\n",
      "  Test Accuracy:  0.8298 ± 0.0172\n"
     ]
    }
   ],
   "source": [
    "# Calculate and display the final results\n",
    "print(\"\\n\" + \"=\"*50)\n",
    "print(\"FINAL RESULTS (averaged across 10 folds):\")\n",
    "print(\"=\"*50)\n",
    "\n",
    "print(\"\\nLDA (Single Shared Covariance):\")\n",
    "print(f\"  Train Accuracy: {np.mean(lda_results['train_acc']):.4f} ± {np.std(lda_results['train_acc']):.4f}\")\n",
    "print(f\"  Test Accuracy:  {np.mean(lda_results['test_acc']):.4f} ± {np.std(lda_results['test_acc']):.4f}\")\n",
    "\n",
    "print(\"\\nQDA (Class-Specific Covariances):\")\n",
    "print(f\"  Train Accuracy: {np.mean(qda_results['train_acc']):.4f} ± {np.std(qda_results['train_acc']):.4f}\")\n",
    "print(f\"  Test Accuracy:  {np.mean(qda_results['test_acc']):.4f} ± {np.std(qda_results['test_acc']):.4f}\")"
   ]
  },
  {
   "metadata": {},
   "cell_type": "markdown",
   "source": [
    "Algo:\n",
    "- LDA and QDA for binary classification on spambase\n",
    "- LDA assumes all classes share the same cov matrix, while QDA allows each class to have its own cov matrix\n",
    "\n",
    "GDA Models each class as Multivariate Gaussian Distribution\n",
    "For each class, we compute:\n",
    "- Prior Probability: P(class) = #samples in class / total samples\n",
    "- Mean vector: average feature values for that class\n",
    "- Covariance Matrix: how features vary together\n",
    "- Classification: assign to class with highest log-likelihood using Baye's rule\n"
   ],
   "id": "3090f5df06f70963"
  },
  {
   "metadata": {},
   "cell_type": "code",
   "outputs": [],
   "execution_count": null,
   "source": "",
   "id": "11241114894f019d"
  }
 ],
 "metadata": {
  "kernelspec": {
   "display_name": "Python 3 (ipykernel)",
   "language": "python",
   "name": "python3"
  },
  "language_info": {
   "codemirror_mode": {
    "name": "ipython",
    "version": 3
   },
   "file_extension": ".py",
   "mimetype": "text/x-python",
   "name": "python",
   "nbconvert_exporter": "python",
   "pygments_lexer": "ipython3",
   "version": "3.13.5"
  }
 },
 "nbformat": 4,
 "nbformat_minor": 5
}
